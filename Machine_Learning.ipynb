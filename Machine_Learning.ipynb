{
  "nbformat": 4,
  "nbformat_minor": 0,
  "metadata": {
    "colab": {
      "name": "Machine Learning.ipynb",
      "provenance": [],
      "toc_visible": true,
      "authorship_tag": "ABX9TyMqrbebAiBugYjwJkUKLtce",
      "include_colab_link": true
    },
    "kernelspec": {
      "name": "python3",
      "display_name": "Python 3"
    },
    "language_info": {
      "name": "python"
    }
  },
  "cells": [
    {
      "cell_type": "markdown",
      "metadata": {
        "id": "view-in-github",
        "colab_type": "text"
      },
      "source": [
        "<a href=\"https://colab.research.google.com/github/Mwadz/Machine-Learning-/blob/main/Machine_Learning.ipynb\" target=\"_parent\"><img src=\"https://colab.research.google.com/assets/colab-badge.svg\" alt=\"Open In Colab\"/></a>"
      ]
    },
    {
      "cell_type": "markdown",
      "source": [
        "# TensorFlow Core Learning Algorithms\n",
        "In this notebook we will walk through 4 fundemental machine learning algorithms. We will apply each of these algorithms to unique problems and datasets before highlighting the use cases of each.\n",
        "\n",
        "The algorithms we will focus on include:\n",
        "\n",
        "* Linear Regression\n",
        "\n",
        "* Classification\n",
        "\n",
        "* Clustering\n",
        "\n",
        "* Hidden Markov Models\n",
        "\n",
        "It is worth noting that there are many tools within TensorFlow that could be used to solve the problems we will see below. I have chosen the tools that I belive give the most variety and are easiest to use."
      ],
      "metadata": {
        "id": "NMKqd3J7CfU3"
      }
    },
    {
      "cell_type": "markdown",
      "source": [
        "# A) Linear Regression\n",
        "Linear regression is one of the most basic forms of machine learning and is used to predict numeric values.\n",
        "\n",
        "In this tutorial we will use a linear model to predict the survival rate of passangers from the titanic dataset.\n",
        "\n",
        "This section is based on the following documentation: https://www.tensorflow.org/tutorials/estimator/linear"
      ],
      "metadata": {
        "id": "8UIuLKt0C0fl"
      }
    },
    {
      "cell_type": "markdown",
      "source": [
        "## How it Works\n",
        "Before we dive in, I will provide a very surface level explination of the linear regression algorithm.\n",
        "\n",
        "Linear regression follows a very simple concept. If data points are related linearly, we can generate a line of best fit for these points and use it to predict future values.\n",
        "\n",
        "Let's take an example of a data set with one feature and one label."
      ],
      "metadata": {
        "id": "qRcNUSCcDbkF"
      }
    },
    {
      "cell_type": "code",
      "source": [
        "import matplotlib.pyplot as plt\n",
        "import numpy as np\n",
        "\n",
        "x = [1, 2, 2.5, 3, 4]\n",
        "y = [1, 4, 7, 9, 15]\n",
        "plt.plot(x, y, 'ro')\n",
        "plt.axis([0, 6, 0, 20])"
      ],
      "metadata": {
        "colab": {
          "base_uri": "https://localhost:8080/",
          "height": 287
        },
        "id": "qjPBm4jxDyAu",
        "outputId": "51ca0b66-537a-42b1-b2f3-63fa5096cebb"
      },
      "execution_count": 1,
      "outputs": [
        {
          "output_type": "execute_result",
          "data": {
            "text/plain": [
              "(0.0, 6.0, 0.0, 20.0)"
            ]
          },
          "metadata": {},
          "execution_count": 1
        },
        {
          "output_type": "display_data",
          "data": {
            "text/plain": [
              "<Figure size 432x288 with 1 Axes>"
            ],
            "image/png": "[encoded data removed]"
          },
          "metadata": {
            "needs_background": "light"
          }
        }
      ]
    },
    {
      "cell_type": "markdown",
      "source": [
        "We can see that this data has a linear coorespondence. When the x value increases, so does the y. Because of this relation we can create a line of best fit for this dataset. In this example our line will only use one input variable, as we are working with two dimensions. In larger datasets with more features our line will have more features and inputs.\n",
        "\n",
        "\"Line of best fit refers to a line through a scatter plot of data points that best expresses the relationship between those points.\" (https://www.investopedia.com/terms/l/line-of-best-fit.asp)\n",
        "\n",
        "Here's a refresher on the equation of a line in 2D.\n",
        "\n",
        "\n",
        "Here's an example of a line of best fit for this graph."
      ],
      "metadata": {
        "id": "z0WhAfAIEPbn"
      }
    },
    {
      "cell_type": "code",
      "source": [
        "plt.plot(x, y, 'ro')\n",
        "plt.axis([0, 6, 0, 20])\n",
        "plt.plot(np.unique(x), np.poly1d(np.polyfit(x, y, 1))(np.unique(x)))\n",
        "plt.show()"
      ],
      "metadata": {
        "colab": {
          "base_uri": "https://localhost:8080/",
          "height": 269
        },
        "id": "8uZn53ZlEcPA",
        "outputId": "8870de7f-7959-49d8-c0dd-ce7b45d487a8"
      },
      "execution_count": 2,
      "outputs": [
        {
          "output_type": "display_data",
          "data": {
            "text/plain": [
              "<Figure size 432x288 with 1 Axes>"
            ],
            "image/png": "[encoded data removed]"
          },
          "metadata": {
            "needs_background": "light"
          }
        }
      ]
    },
    {
      "cell_type": "markdown",
      "source": [
        "## Setup and Imports"
      ],
      "metadata": {
        "id": "W4NRQrxa3lyN"
      }
    },
    {
      "cell_type": "code",
      "execution_count": 3,
      "metadata": {
        "id": "8uUbajrW3RxU"
      },
      "outputs": [],
      "source": [
        "!pip install -q sklearn\n"
      ]
    },
    {
      "cell_type": "code",
      "source": [
        "%tensorflow_version 2.x  # this line is not required unless you are in a notebook\n"
      ],
      "metadata": {
        "colab": {
          "base_uri": "https://localhost:8080/"
        },
        "id": "EAlOqBpc3vs8",
        "outputId": "22f888ac-876d-4921-8f59-6dc2f9a6e8fd"
      },
      "execution_count": 4,
      "outputs": [
        {
          "output_type": "stream",
          "name": "stdout",
          "text": [
            "`%tensorflow_version` only switches the major version: 1.x or 2.x.\n",
            "You set: `2.x  # this line is not required unless you are in a notebook`. This will be interpreted as: `2.x`.\n",
            "\n",
            "\n",
            "TensorFlow 2.x selected.\n"
          ]
        }
      ]
    },
    {
      "cell_type": "code",
      "source": [
        "from __future__ import absolute_import, division, print_function, unicode_literals\n",
        "\n",
        "import numpy as np\n",
        "import pandas as pd\n",
        "import matplotlib.pyplot as plt\n",
        "from IPython.display import clear_output\n",
        "from six.moves import urllib\n",
        "\n",
        "import tensorflow.compat.v2.feature_column as fc\n",
        "\n",
        "import tensorflow as tf\n"
      ],
      "metadata": {
        "id": "7vbnk-0H48gC"
      },
      "execution_count": 5,
      "outputs": []
    },
    {
      "cell_type": "markdown",
      "source": [
        "## Loading Dataset"
      ],
      "metadata": {
        "id": "aHOb6QCc8GoM"
      }
    },
    {
      "cell_type": "code",
      "source": [
        "# Load dataset.\n",
        "dftrain = pd.read_csv('https://storage.googleapis.com/tf-datasets/titanic/train.csv') # training data\n",
        "dfeval = pd.read_csv('https://storage.googleapis.com/tf-datasets/titanic/eval.csv') # testing data\n",
        "y_train = dftrain.pop('survived')\n",
        "y_eval = dfeval.pop('survived')"
      ],
      "metadata": {
        "id": "uaSz6GKK8DaO"
      },
      "execution_count": 6,
      "outputs": []
    },
    {
      "cell_type": "code",
      "source": [
        "dftrain.head(3)"
      ],
      "metadata": {
        "colab": {
          "base_uri": "https://localhost:8080/",
          "height": 143
        },
        "id": "AxowEVQI-S2r",
        "outputId": "f9732131-7cf1-49ff-b2b3-fb68d43a7695"
      },
      "execution_count": 7,
      "outputs": [
        {
          "output_type": "execute_result",
          "data": {
            "text/plain": [
              "      sex   age  n_siblings_spouses  parch     fare  class     deck  \\\n",
              "0    male  22.0                   1      0   7.2500  Third  unknown   \n",
              "1  female  38.0                   1      0  71.2833  First        C   \n",
              "2  female  26.0                   0      0   7.9250  Third  unknown   \n",
              "\n",
              "   embark_town alone  \n",
              "0  Southampton     n  \n",
              "1    Cherbourg     n  \n",
              "2  Southampton     y  "
            ],
            "text/html": [
              "\n",
              "  <div id=\"df-b3fdee4b-8781-4750-9e7a-28717a72bb2b\">\n",
              "    <div class=\"colab-df-container\">\n",
              "      <div>\n",
              "<style scoped>\n",
              "    .dataframe tbody tr th:only-of-type {\n",
              "        vertical-align: middle;\n",
              "    }\n",
              "\n",
              "    .dataframe tbody tr th {\n",
              "        vertical-align: top;\n",
              "    }\n",
              "\n",
              "    .dataframe thead th {\n",
              "        text-align: right;\n",
              "    }\n",
              "</style>\n",
              "<table border=\"1\" class=\"dataframe\">\n",
              "  <thead>\n",
              "    <tr style=\"text-align: right;\">\n",
              "      <th></th>\n",
              "      <th>sex</th>\n",
              "      <th>age</th>\n",
              "      <th>n_siblings_spouses</th>\n",
              "      <th>parch</th>\n",
              "      <th>fare</th>\n",
              "      <th>class</th>\n",
              "      <th>deck</th>\n",
              "      <th>embark_town</th>\n",
              "      <th>alone</th>\n",
              "    </tr>\n",
              "  </thead>\n",
              "  <tbody>\n",
              "    <tr>\n",
              "      <th>0</th>\n",
              "      <td>male</td>\n",
              "      <td>22.0</td>\n",
              "      <td>1</td>\n",
              "      <td>0</td>\n",
              "      <td>7.2500</td>\n",
              "      <td>Third</td>\n",
              "      <td>unknown</td>\n",
              "      <td>Southampton</td>\n",
              "      <td>n</td>\n",
              "    </tr>\n",
              "    <tr>\n",
              "      <th>1</th>\n",
              "      <td>female</td>\n",
              "      <td>38.0</td>\n",
              "      <td>1</td>\n",
              "      <td>0</td>\n",
              "      <td>71.2833</td>\n",
              "      <td>First</td>\n",
              "      <td>C</td>\n",
              "      <td>Cherbourg</td>\n",
              "      <td>n</td>\n",
              "    </tr>\n",
              "    <tr>\n",
              "      <th>2</th>\n",
              "      <td>female</td>\n",
              "      <td>26.0</td>\n",
              "      <td>0</td>\n",
              "      <td>0</td>\n",
              "      <td>7.9250</td>\n",
              "      <td>Third</td>\n",
              "      <td>unknown</td>\n",
              "      <td>Southampton</td>\n",
              "      <td>y</td>\n",
              "    </tr>\n",
              "  </tbody>\n",
              "</table>\n",
              "</div>\n",
              "      <button class=\"colab-df-convert\" onclick=\"convertToInteractive('df-b3fdee4b-8781-4750-9e7a-28717a72bb2b')\"\n",
              "              title=\"Convert this dataframe to an interactive table.\"\n",
              "              style=\"display:none;\">\n",
              "        \n",
              "  <svg xmlns=\"http://www.w3.org/2000/svg\" height=\"24px\"viewBox=\"0 0 24 24\"\n",
              "       width=\"24px\">\n",
              "    <path d=\"M0 0h24v24H0V0z\" fill=\"none\"/>\n",
              "    <path d=\"M18.56 5.44l.94 2.06.94-2.06 2.06-.94-2.06-.94-.94-2.06-.94 2.06-2.06.94zm-11 1L8.5 8.5l.94-2.06 2.06-.94-2.06-.94L8.5 2.5l-.94 2.06-2.06.94zm10 10l.94 2.06.94-2.06 2.06-.94-2.06-.94-.94-2.06-.94 2.06-2.06.94z\"/><path d=\"M17.41 7.96l-1.37-1.37c-.4-.4-.92-.59-1.43-.59-.52 0-1.04.2-1.43.59L10.3 9.45l-7.72 7.72c-.78.78-.78 2.05 0 2.83L4 21.41c.39.39.9.59 1.41.59.51 0 1.02-.2 1.41-.59l7.78-7.78 2.81-2.81c.8-.78.8-2.07 0-2.86zM5.41 20L4 18.59l7.72-7.72 1.47 1.35L5.41 20z\"/>\n",
              "  </svg>\n",
              "      </button>\n",
              "      \n",
              "  <style>\n",
              "    .colab-df-container {\n",
              "      display:flex;\n",
              "      flex-wrap:wrap;\n",
              "      gap: 12px;\n",
              "    }\n",
              "\n",
              "    .colab-df-convert {\n",
              "      background-color: #E8F0FE;\n",
              "      border: none;\n",
              "      border-radius: 50%;\n",
              "      cursor: pointer;\n",
              "      display: none;\n",
              "      fill: #1967D2;\n",
              "      height: 32px;\n",
              "      padding: 0 0 0 0;\n",
              "      width: 32px;\n",
              "    }\n",
              "\n",
              "    .colab-df-convert:hover {\n",
              "      background-color: #E2EBFA;\n",
              "      box-shadow: 0px 1px 2px rgba(60, 64, 67, 0.3), 0px 1px 3px 1px rgba(60, 64, 67, 0.15);\n",
              "      fill: #174EA6;\n",
              "    }\n",
              "\n",
              "    [theme=dark] .colab-df-convert {\n",
              "      background-color: #3B4455;\n",
              "      fill: #D2E3FC;\n",
              "    }\n",
              "\n",
              "    [theme=dark] .colab-df-convert:hover {\n",
              "      background-color: #434B5C;\n",
              "      box-shadow: 0px 1px 3px 1px rgba(0, 0, 0, 0.15);\n",
              "      filter: drop-shadow(0px 1px 2px rgba(0, 0, 0, 0.3));\n",
              "      fill: #FFFFFF;\n",
              "    }\n",
              "  </style>\n",
              "\n",
              "      <script>\n",
              "        const buttonEl =\n",
              "          document.querySelector('#df-b3fdee4b-8781-4750-9e7a-28717a72bb2b button.colab-df-convert');\n",
              "        buttonEl.style.display =\n",
              "          google.colab.kernel.accessAllowed ? 'block' : 'none';\n",
              "\n",
              "        async function convertToInteractive(key) {\n",
              "          const element = document.querySelector('#df-b3fdee4b-8781-4750-9e7a-28717a72bb2b');\n",
              "          const dataTable =\n",
              "            await google.colab.kernel.invokeFunction('convertToInteractive',\n",
              "                                                     [key], {});\n",
              "          if (!dataTable) return;\n",
              "\n",
              "          const docLinkHtml = 'Like what you see? Visit the ' +\n",
              "            '<a target=\"_blank\" href=https://colab.research.google.com/notebooks/data_table.ipynb>data table notebook</a>'\n",
              "            + ' to learn more about interactive tables.';\n",
              "          element.innerHTML = '';\n",
              "          dataTable['output_type'] = 'display_data';\n",
              "          await google.colab.output.renderOutput(dataTable, element);\n",
              "          const docLink = document.createElement('div');\n",
              "          docLink.innerHTML = docLinkHtml;\n",
              "          element.appendChild(docLink);\n",
              "        }\n",
              "      </script>\n",
              "    </div>\n",
              "  </div>\n",
              "  "
            ]
          },
          "metadata": {},
          "execution_count": 7
        }
      ]
    },
    {
      "cell_type": "code",
      "source": [
        "dfeval.head(3)"
      ],
      "metadata": {
        "colab": {
          "base_uri": "https://localhost:8080/",
          "height": 143
        },
        "id": "uWzmUIWJ-giQ",
        "outputId": "1f483463-ad85-45f8-e593-bac42c3dcbee"
      },
      "execution_count": 8,
      "outputs": [
        {
          "output_type": "execute_result",
          "data": {
            "text/plain": [
              "      sex   age  n_siblings_spouses  parch     fare  class     deck  \\\n",
              "0    male  35.0                   0      0   8.0500  Third  unknown   \n",
              "1    male  54.0                   0      0  51.8625  First        E   \n",
              "2  female  58.0                   0      0  26.5500  First        C   \n",
              "\n",
              "   embark_town alone  \n",
              "0  Southampton     y  \n",
              "1  Southampton     y  \n",
              "2  Southampton     y  "
            ],
            "text/html": [
              "\n",
              "  <div id=\"df-f7089e86-7329-4d45-9007-7eeeb91bb7d9\">\n",
              "    <div class=\"colab-df-container\">\n",
              "      <div>\n",
              "<style scoped>\n",
              "    .dataframe tbody tr th:only-of-type {\n",
              "        vertical-align: middle;\n",
              "    }\n",
              "\n",
              "    .dataframe tbody tr th {\n",
              "        vertical-align: top;\n",
              "    }\n",
              "\n",
              "    .dataframe thead th {\n",
              "        text-align: right;\n",
              "    }\n",
              "</style>\n",
              "<table border=\"1\" class=\"dataframe\">\n",
              "  <thead>\n",
              "    <tr style=\"text-align: right;\">\n",
              "      <th></th>\n",
              "      <th>sex</th>\n",
              "      <th>age</th>\n",
              "      <th>n_siblings_spouses</th>\n",
              "      <th>parch</th>\n",
              "      <th>fare</th>\n",
              "      <th>class</th>\n",
              "      <th>deck</th>\n",
              "      <th>embark_town</th>\n",
              "      <th>alone</th>\n",
              "    </tr>\n",
              "  </thead>\n",
              "  <tbody>\n",
              "    <tr>\n",
              "      <th>0</th>\n",
              "      <td>male</td>\n",
              "      <td>35.0</td>\n",
              "      <td>0</td>\n",
              "      <td>0</td>\n",
              "      <td>8.0500</td>\n",
              "      <td>Third</td>\n",
              "      <td>unknown</td>\n",
              "      <td>Southampton</td>\n",
              "      <td>y</td>\n",
              "    </tr>\n",
              "    <tr>\n",
              "      <th>1</th>\n",
              "      <td>male</td>\n",
              "      <td>54.0</td>\n",
              "      <td>0</td>\n",
              "      <td>0</td>\n",
              "      <td>51.8625</td>\n",
              "      <td>First</td>\n",
              "      <td>E</td>\n",
              "      <td>Southampton</td>\n",
              "      <td>y</td>\n",
              "    </tr>\n",
              "    <tr>\n",
              "      <th>2</th>\n",
              "      <td>female</td>\n",
              "      <td>58.0</td>\n",
              "      <td>0</td>\n",
              "      <td>0</td>\n",
              "      <td>26.5500</td>\n",
              "      <td>First</td>\n",
              "      <td>C</td>\n",
              "      <td>Southampton</td>\n",
              "      <td>y</td>\n",
              "    </tr>\n",
              "  </tbody>\n",
              "</table>\n",
              "</div>\n",
              "      <button class=\"colab-df-convert\" onclick=\"convertToInteractive('df-f7089e86-7329-4d45-9007-7eeeb91bb7d9')\"\n",
              "              title=\"Convert this dataframe to an interactive table.\"\n",
              "              style=\"display:none;\">\n",
              "        \n",
              "  <svg xmlns=\"http://www.w3.org/2000/svg\" height=\"24px\"viewBox=\"0 0 24 24\"\n",
              "       width=\"24px\">\n",
              "    <path d=\"M0 0h24v24H0V0z\" fill=\"none\"/>\n",
              "    <path d=\"M18.56 5.44l.94 2.06.94-2.06 2.06-.94-2.06-.94-.94-2.06-.94 2.06-2.06.94zm-11 1L8.5 8.5l.94-2.06 2.06-.94-2.06-.94L8.5 2.5l-.94 2.06-2.06.94zm10 10l.94 2.06.94-2.06 2.06-.94-2.06-.94-.94-2.06-.94 2.06-2.06.94z\"/><path d=\"M17.41 7.96l-1.37-1.37c-.4-.4-.92-.59-1.43-.59-.52 0-1.04.2-1.43.59L10.3 9.45l-7.72 7.72c-.78.78-.78 2.05 0 2.83L4 21.41c.39.39.9.59 1.41.59.51 0 1.02-.2 1.41-.59l7.78-7.78 2.81-2.81c.8-.78.8-2.07 0-2.86zM5.41 20L4 18.59l7.72-7.72 1.47 1.35L5.41 20z\"/>\n",
              "  </svg>\n",
              "      </button>\n",
              "      \n",
              "  <style>\n",
              "    .colab-df-container {\n",
              "      display:flex;\n",
              "      flex-wrap:wrap;\n",
              "      gap: 12px;\n",
              "    }\n",
              "\n",
              "    .colab-df-convert {\n",
              "      background-color: #E8F0FE;\n",
              "      border: none;\n",
              "      border-radius: 50%;\n",
              "      cursor: pointer;\n",
              "      display: none;\n",
              "      fill: #1967D2;\n",
              "      height: 32px;\n",
              "      padding: 0 0 0 0;\n",
              "      width: 32px;\n",
              "    }\n",
              "\n",
              "    .colab-df-convert:hover {\n",
              "      background-color: #E2EBFA;\n",
              "      box-shadow: 0px 1px 2px rgba(60, 64, 67, 0.3), 0px 1px 3px 1px rgba(60, 64, 67, 0.15);\n",
              "      fill: #174EA6;\n",
              "    }\n",
              "\n",
              "    [theme=dark] .colab-df-convert {\n",
              "      background-color: #3B4455;\n",
              "      fill: #D2E3FC;\n",
              "    }\n",
              "\n",
              "    [theme=dark] .colab-df-convert:hover {\n",
              "      background-color: #434B5C;\n",
              "      box-shadow: 0px 1px 3px 1px rgba(0, 0, 0, 0.15);\n",
              "      filter: drop-shadow(0px 1px 2px rgba(0, 0, 0, 0.3));\n",
              "      fill: #FFFFFF;\n",
              "    }\n",
              "  </style>\n",
              "\n",
              "      <script>\n",
              "        const buttonEl =\n",
              "          document.querySelector('#df-f7089e86-7329-4d45-9007-7eeeb91bb7d9 button.colab-df-convert');\n",
              "        buttonEl.style.display =\n",
              "          google.colab.kernel.accessAllowed ? 'block' : 'none';\n",
              "\n",
              "        async function convertToInteractive(key) {\n",
              "          const element = document.querySelector('#df-f7089e86-7329-4d45-9007-7eeeb91bb7d9');\n",
              "          const dataTable =\n",
              "            await google.colab.kernel.invokeFunction('convertToInteractive',\n",
              "                                                     [key], {});\n",
              "          if (!dataTable) return;\n",
              "\n",
              "          const docLinkHtml = 'Like what you see? Visit the ' +\n",
              "            '<a target=\"_blank\" href=https://colab.research.google.com/notebooks/data_table.ipynb>data table notebook</a>'\n",
              "            + ' to learn more about interactive tables.';\n",
              "          element.innerHTML = '';\n",
              "          dataTable['output_type'] = 'display_data';\n",
              "          await google.colab.output.renderOutput(dataTable, element);\n",
              "          const docLink = document.createElement('div');\n",
              "          docLink.innerHTML = docLinkHtml;\n",
              "          element.appendChild(docLink);\n",
              "        }\n",
              "      </script>\n",
              "    </div>\n",
              "  </div>\n",
              "  "
            ]
          },
          "metadata": {},
          "execution_count": 8
        }
      ]
    },
    {
      "cell_type": "markdown",
      "source": [
        "# Linear Regression Steps"
      ],
      "metadata": {
        "id": "jAQ9FDnZ6sLF"
      }
    },
    {
      "cell_type": "markdown",
      "source": [
        "### 1) Analyzing Visuals"
      ],
      "metadata": {
        "id": "9yG4Q-_E-7UY"
      }
    },
    {
      "cell_type": "code",
      "source": [
        "# showing age frequency distribution\n",
        "dftrain.age.hist(bins=20);"
      ],
      "metadata": {
        "colab": {
          "base_uri": "https://localhost:8080/",
          "height": 265
        },
        "id": "WEmbHXBE_GcR",
        "outputId": "d030d842-00c9-4d00-e441-42ae625f9e20"
      },
      "execution_count": 9,
      "outputs": [
        {
          "output_type": "display_data",
          "data": {
            "text/plain": [
              "<Figure size 432x288 with 1 Axes>"
            ],
            "image/png": "[encoded data removed]"
          },
          "metadata": {
            "needs_background": "light"
          }
        }
      ]
    },
    {
      "cell_type": "code",
      "source": [
        "#\n",
        "# dftrain.sex.value_counts().plot(kind='barh');\n",
        "# or\n",
        "#\n",
        "import seaborn as sns\n",
        "# finding out the gender disparity in our dataset\n",
        "sns.countplot(data=dftrain, x='sex');\n",
        "plt.title(\"Gender Disparity\");"
      ],
      "metadata": {
        "colab": {
          "base_uri": "https://localhost:8080/",
          "height": 295
        },
        "id": "jnqw2CYF_XQX",
        "outputId": "1bd01ec7-4db9-4e44-b6e0-54156e494d2d"
      },
      "execution_count": 10,
      "outputs": [
        {
          "output_type": "display_data",
          "data": {
            "text/plain": [
              "<Figure size 432x288 with 1 Axes>"
            ],
            "image/png": "[encoded data removed]"
          },
          "metadata": {
            "needs_background": "light"
          }
        }
      ]
    },
    {
      "cell_type": "code",
      "source": [
        "# dftrain['class'].value_counts().plot(kind='barh')\n",
        "# or\n",
        "# finding out the gender disparity in our dataset\n",
        "sns.countplot(data=dftrain, x='class');\n",
        "plt.title(\"Gender Disparity\");"
      ],
      "metadata": {
        "colab": {
          "base_uri": "https://localhost:8080/",
          "height": 295
        },
        "id": "7wsbe4B_AagZ",
        "outputId": "9f5aa84b-ab16-4a36-d812-fd9c6080383f"
      },
      "execution_count": 11,
      "outputs": [
        {
          "output_type": "display_data",
          "data": {
            "text/plain": [
              "<Figure size 432x288 with 1 Axes>"
            ],
            "image/png": "[encoded data removed]"
          },
          "metadata": {
            "needs_background": "light"
          }
        }
      ]
    },
    {
      "cell_type": "code",
      "source": [
        "# Checking the percentge survival by sex\n",
        "pd.concat([dftrain, y_train], axis=1).groupby('sex').survived.mean().plot(kind ='barh').set_xlabel('%survival')"
      ],
      "metadata": {
        "colab": {
          "base_uri": "https://localhost:8080/",
          "height": 297
        },
        "id": "5Q-FFrQzBCyt",
        "outputId": "b04702e1-066e-48f8-8862-b54bc3beff85"
      },
      "execution_count": 12,
      "outputs": [
        {
          "output_type": "execute_result",
          "data": {
            "text/plain": [
              "Text(0.5, 0, '%survival')"
            ]
          },
          "metadata": {},
          "execution_count": 12
        },
        {
          "output_type": "display_data",
          "data": {
            "text/plain": [
              "<Figure size 432x288 with 1 Axes>"
            ],
            "image/png": "[encoded data removed]"
          },
          "metadata": {
            "needs_background": "light"
          }
        }
      ]
    },
    {
      "cell_type": "markdown",
      "source": [
        "**Observations**\n",
        "* Majority of the passangers are in their 20s and 30s\n",
        "* Majority of passangers are male\n",
        "* majority of passangers are in third class\n",
        "* females have a much higher chance of survival\n"
      ],
      "metadata": {
        "id": "_F6uaeTdCNOI"
      }
    },
    {
      "cell_type": "code",
      "source": [
        "CATEGORICAL_COLUMNS = ['sex', 'n_siblings_spouses', 'parch', 'class', 'deck',\n",
        "                       'embark_town', 'alone']\n",
        "NUMERIC_COLUMNS = ['age', 'fare']\n",
        "\n",
        "feature_columns = []\n",
        "for feature_name in CATEGORICAL_COLUMNS:\n",
        "  vocabulary = dftrain[feature_name].unique()  # gets a list of all unique values from given feature column\n",
        "  feature_columns.append(tf.feature_column.categorical_column_with_vocabulary_list(feature_name, vocabulary))\n",
        "\n",
        "for feature_name in NUMERIC_COLUMNS:\n",
        "  feature_columns.append(tf.feature_column.numeric_column(feature_name, dtype=tf.float32))\n",
        "\n",
        "print(feature_columns)"
      ],
      "metadata": {
        "colab": {
          "base_uri": "https://localhost:8080/"
        },
        "id": "SzWIqRDgCMuT",
        "outputId": "15b2d2d6-f642-4349-92d1-5bee411286af"
      },
      "execution_count": 14,
      "outputs": [
        {
          "output_type": "stream",
          "name": "stdout",
          "text": [
            "[VocabularyListCategoricalColumn(key='sex', vocabulary_list=('male', 'female'), dtype=tf.string, default_value=-1, num_oov_buckets=0), VocabularyListCategoricalColumn(key='n_siblings_spouses', vocabulary_list=(1, 0, 3, 4, 2, 5, 8), dtype=tf.int64, default_value=-1, num_oov_buckets=0), VocabularyListCategoricalColumn(key='parch', vocabulary_list=(0, 1, 2, 5, 3, 4), dtype=tf.int64, default_value=-1, num_oov_buckets=0), VocabularyListCategoricalColumn(key='class', vocabulary_list=('Third', 'First', 'Second'), dtype=tf.string, default_value=-1, num_oov_buckets=0), VocabularyListCategoricalColumn(key='deck', vocabulary_list=('unknown', 'C', 'G', 'A', 'B', 'D', 'F', 'E'), dtype=tf.string, default_value=-1, num_oov_buckets=0), VocabularyListCategoricalColumn(key='embark_town', vocabulary_list=('Southampton', 'Cherbourg', 'Queenstown', 'unknown'), dtype=tf.string, default_value=-1, num_oov_buckets=0), VocabularyListCategoricalColumn(key='alone', vocabulary_list=('n', 'y'), dtype=tf.string, default_value=-1, num_oov_buckets=0), NumericColumn(key='age', shape=(1,), default_value=None, dtype=tf.float32, normalizer_fn=None), NumericColumn(key='fare', shape=(1,), default_value=None, dtype=tf.float32, normalizer_fn=None)]\n"
          ]
        }
      ]
    },
    {
      "cell_type": "markdown",
      "source": [
        "### 2) Creating/Training a model"
      ],
      "metadata": {
        "id": "4t9XmQqJJQab"
      }
    },
    {
      "cell_type": "code",
      "source": [
        "# using an input function to feed data to our model in batches multiple times\n",
        "\n",
        "def make_input_fn(data_df, label_df, num_epochs=10, shuffle=True, batch_size=32):\n",
        "  def input_function():  # inner function, this will be returned\n",
        "    ds = tf.data.Dataset.from_tensor_slices((dict(data_df), label_df))  # create tf.data.Dataset object with data and its label\n",
        "    if shuffle:\n",
        "      ds = ds.shuffle(1000)  # randomize order of data\n",
        "    ds = ds.batch(batch_size).repeat(num_epochs)  # split dataset into batches of 32 and repeat process for number of epochs\n",
        "    return ds  # return a batch of the dataset\n",
        "  return input_function  # return a function object for use\n",
        "\n",
        "train_input_fn = make_input_fn(dftrain, y_train)  # here we will call the input_function that was returned to us to get a dataset object we can feed to the model\n",
        "eval_input_fn = make_input_fn(dftrain, y_train, num_epochs=1, shuffle=False)"
      ],
      "metadata": {
        "id": "32TpN3FWJNAO"
      },
      "execution_count": 15,
      "outputs": []
    },
    {
      "cell_type": "code",
      "source": [
        "linear_est = tf.estimator.LinearClassifier(feature_columns=feature_columns)\n",
        "# We create a linear estimtor by passing the feature columns we created earlier"
      ],
      "metadata": {
        "colab": {
          "base_uri": "https://localhost:8080/"
        },
        "id": "X5wW1gsBMoUq",
        "outputId": "49ab849f-5f15-48f7-d6e7-d5f267ea6bdd"
      },
      "execution_count": 16,
      "outputs": [
        {
          "output_type": "stream",
          "name": "stdout",
          "text": [
            "INFO:tensorflow:Using default config.\n",
            "WARNING:tensorflow:Using temporary folder as model directory: /tmp/tmpbs2p_68a\n",
            "INFO:tensorflow:Using config: {'_model_dir': '/tmp/tmpbs2p_68a', '_tf_random_seed': None, '_save_summary_steps': 100, '_save_checkpoints_steps': None, '_save_checkpoints_secs': 600, '_session_config': allow_soft_placement: true\n",
            "graph_options {\n",
            "  rewrite_options {\n",
            "    meta_optimizer_iterations: ONE\n",
            "  }\n",
            "}\n",
            ", '_keep_checkpoint_max': 5, '_keep_checkpoint_every_n_hours': 10000, '_log_step_count_steps': 100, '_train_distribute': None, '_device_fn': None, '_protocol': None, '_eval_distribute': None, '_experimental_distribute': None, '_experimental_max_worker_delay_secs': None, '_session_creation_timeout_secs': 7200, '_checkpoint_save_graph_def': True, '_service': None, '_cluster_spec': ClusterSpec({}), '_task_type': 'worker', '_task_id': 0, '_global_id_in_cluster': 0, '_master': '', '_evaluation_master': '', '_is_chief': True, '_num_ps_replicas': 0, '_num_worker_replicas': 1}\n"
          ]
        }
      ]
    },
    {
      "cell_type": "markdown",
      "source": [
        "**Explanation**\n",
        "* in the above code we have created a linear estimator by passing the feature columns we created earlier "
      ],
      "metadata": {
        "id": "fHfIs0hijgOm"
      }
    },
    {
      "cell_type": "markdown",
      "source": [
        "### 3) Training the Model"
      ],
      "metadata": {
        "id": "OCBnr3Tl5e0q"
      }
    },
    {
      "cell_type": "code",
      "source": [
        "linear_est.train(train_input_fn)  # train\n",
        "result = linear_est.evaluate(eval_input_fn)  # get model metrics/stats by testing on tetsing data\n",
        "\n",
        "clear_output()  # clears consoke output\n",
        "print(result['accuracy'])  # the result variable is simply a dict of stats about our model"
      ],
      "metadata": {
        "colab": {
          "base_uri": "https://localhost:8080/"
        },
        "id": "_gzs4pON4Mb_",
        "outputId": "70491b35-3c62-4e48-f9e9-a82d71e6da2b"
      },
      "execution_count": 19,
      "outputs": [
        {
          "output_type": "stream",
          "name": "stdout",
          "text": [
            "0.814992\n"
          ]
        }
      ]
    },
    {
      "cell_type": "markdown",
      "source": [
        "* Accuracy Stands at 81.6587% which is pretty good"
      ],
      "metadata": {
        "id": "df0lCUMi4XuH"
      }
    },
    {
      "cell_type": "markdown",
      "source": [
        "### 4) Predicting"
      ],
      "metadata": {
        "id": "xmXs83Wd4_er"
      }
    },
    {
      "cell_type": "code",
      "source": [
        "pred_dicts = list(linear_est.predict(eval_input_fn))\n",
        "probs = pd.Series([pred['probabilities'][1] for pred in pred_dicts])\n",
        "\n",
        "probs.plot(kind='hist', bins=20, title='predicted probabilities')\n"
      ],
      "metadata": {
        "colab": {
          "base_uri": "https://localhost:8080/",
          "height": 457
        },
        "id": "albljdZ54Vcj",
        "outputId": "31738259-d030-4a5f-fcb0-ef22ca8682f9"
      },
      "execution_count": 20,
      "outputs": [
        {
          "output_type": "stream",
          "name": "stdout",
          "text": [
            "INFO:tensorflow:Calling model_fn.\n"
          ]
        },
        {
          "output_type": "stream",
          "name": "stderr",
          "text": [
            "/usr/local/lib/python3.7/dist-packages/tensorflow_estimator/python/estimator/canned/linear.py:1478: UserWarning: `layer.add_variable` is deprecated and will be removed in a future version. Please use `layer.add_weight` method instead.\n",
            "  getter=tf.compat.v1.get_variable)\n"
          ]
        },
        {
          "output_type": "stream",
          "name": "stdout",
          "text": [
            "INFO:tensorflow:Done calling model_fn.\n",
            "INFO:tensorflow:Graph was finalized.\n",
            "INFO:tensorflow:Restoring parameters from /tmp/tmpbs2p_68a/model.ckpt-600\n",
            "INFO:tensorflow:Running local_init_op.\n",
            "INFO:tensorflow:Done running local_init_op.\n"
          ]
        },
        {
          "output_type": "execute_result",
          "data": {
            "text/plain": [
              "<matplotlib.axes._subplots.AxesSubplot at 0x7f5bbd48ef10>"
            ]
          },
          "metadata": {},
          "execution_count": 20
        },
        {
          "output_type": "display_data",
          "data": {
            "text/plain": [
              "<Figure size 432x288 with 1 Axes>"
            ],
            "image/png": "[encoded data removed]"
          },
          "metadata": {
            "needs_background": "light"
          }
        }
      ]
    },
    {
      "cell_type": "markdown",
      "source": [
        "# B) Classification"
      ],
      "metadata": {
        "id": "6-Kbg_LF8KI4"
      }
    },
    {
      "cell_type": "markdown",
      "source": [
        "**Imports and Setup**"
      ],
      "metadata": {
        "id": "dtjea4oe9DZ8"
      }
    },
    {
      "cell_type": "code",
      "source": [
        "%tensorflow_version 2.x  # this line is not required unless you are in a notebook"
      ],
      "metadata": {
        "colab": {
          "base_uri": "https://localhost:8080/"
        },
        "id": "dmRhbYqS8ORi",
        "outputId": "87b46e63-1c25-46ee-cf03-a0de8ce7dead"
      },
      "execution_count": 21,
      "outputs": [
        {
          "output_type": "stream",
          "name": "stdout",
          "text": [
            "`%tensorflow_version` only switches the major version: 1.x or 2.x.\n",
            "You set: `2.x  # this line is not required unless you are in a notebook`. This will be interpreted as: `2.x`.\n",
            "\n",
            "\n",
            "TensorFlow is already loaded. Please restart the runtime to change versions.\n"
          ]
        }
      ]
    },
    {
      "cell_type": "code",
      "source": [
        "# TensorFlow is already loaded. Please restart the runtime to change versions.\n",
        "from __future__ import absolute_import, division, print_function, unicode_literals\n",
        "\n",
        "\n",
        "import tensorflow as tf\n",
        "\n",
        "import pandas as pd"
      ],
      "metadata": {
        "id": "J1QK0hmC9JZq"
      },
      "execution_count": 22,
      "outputs": []
    },
    {
      "cell_type": "code",
      "source": [
        "CSV_COLUMN_NAMES = ['SepalLength', 'SepalWidth', 'PetalLength', 'PetalWidth', 'Species']\n",
        "SPECIES = ['Setosa', 'Versicolor', 'Virginica']\n",
        "\n"
      ],
      "metadata": {
        "id": "6YayqLbn9X1A"
      },
      "execution_count": 23,
      "outputs": []
    },
    {
      "cell_type": "markdown",
      "source": [
        "* In the above define some constants to help us later on."
      ],
      "metadata": {
        "id": "dMsBHqr8-zRI"
      }
    },
    {
      "cell_type": "code",
      "source": [
        "train_path = tf.keras.utils.get_file(\n",
        "    \"iris_training.csv\", \"https://storage.googleapis.com/download.tensorflow.org/data/iris_training.csv\")\n",
        "test_path = tf.keras.utils.get_file(\n",
        "    \"iris_test.csv\", \"https://storage.googleapis.com/download.tensorflow.org/data/iris_test.csv\")\n",
        "\n",
        "train = pd.read_csv(train_path, names=CSV_COLUMN_NAMES, header=0)\n",
        "test = pd.read_csv(test_path, names=CSV_COLUMN_NAMES, header=0)"
      ],
      "metadata": {
        "colab": {
          "base_uri": "https://localhost:8080/"
        },
        "id": "DW5XjUFw-HrL",
        "outputId": "7406f72d-4589-40ac-a867-18ee4dde12d3"
      },
      "execution_count": 24,
      "outputs": [
        {
          "output_type": "stream",
          "name": "stdout",
          "text": [
            "Downloading data from https://storage.googleapis.com/download.tensorflow.org/data/iris_training.csv\n",
            "16384/2194 [================================================================================================================================================================================================================================] - 0s 0us/step\n",
            "Downloading data from https://storage.googleapis.com/download.tensorflow.org/data/iris_test.csv\n",
            "16384/573 [=========================================================================================================================================================================================================================================================================================================================================================================================================================================================================================================================================================================================================================================================================================================================================================================================================================================================================================] - 0s 0us/step\n"
          ]
        }
      ]
    },
    {
      "cell_type": "markdown",
      "source": [
        "* Here we use **keras** (a module inside of TensorFlow) to grab our datasets and read them into a pandas dataframe\n"
      ],
      "metadata": {
        "id": "beDPzwRH-py0"
      }
    },
    {
      "cell_type": "code",
      "source": [
        "train.head()"
      ],
      "metadata": {
        "colab": {
          "base_uri": "https://localhost:8080/",
          "height": 206
        },
        "id": "IBXlkY9D-Hjv",
        "outputId": "218e7cd5-1eee-48f2-cd11-05a26050b19d"
      },
      "execution_count": 25,
      "outputs": [
        {
          "output_type": "execute_result",
          "data": {
            "text/plain": [
              "   SepalLength  SepalWidth  PetalLength  PetalWidth  Species\n",
              "0          6.4         2.8          5.6         2.2        2\n",
              "1          5.0         2.3          3.3         1.0        1\n",
              "2          4.9         2.5          4.5         1.7        2\n",
              "3          4.9         3.1          1.5         0.1        0\n",
              "4          5.7         3.8          1.7         0.3        0"
            ],
            "text/html": [
              "\n",
              "  <div id=\"df-01cdd828-deba-43b6-b86f-2c1ae353209c\">\n",
              "    <div class=\"colab-df-container\">\n",
              "      <div>\n",
              "<style scoped>\n",
              "    .dataframe tbody tr th:only-of-type {\n",
              "        vertical-align: middle;\n",
              "    }\n",
              "\n",
              "    .dataframe tbody tr th {\n",
              "        vertical-align: top;\n",
              "    }\n",
              "\n",
              "    .dataframe thead th {\n",
              "        text-align: right;\n",
              "    }\n",
              "</style>\n",
              "<table border=\"1\" class=\"dataframe\">\n",
              "  <thead>\n",
              "    <tr style=\"text-align: right;\">\n",
              "      <th></th>\n",
              "      <th>SepalLength</th>\n",
              "      <th>SepalWidth</th>\n",
              "      <th>PetalLength</th>\n",
              "      <th>PetalWidth</th>\n",
              "      <th>Species</th>\n",
              "    </tr>\n",
              "  </thead>\n",
              "  <tbody>\n",
              "    <tr>\n",
              "      <th>0</th>\n",
              "      <td>6.4</td>\n",
              "      <td>2.8</td>\n",
              "      <td>5.6</td>\n",
              "      <td>2.2</td>\n",
              "      <td>2</td>\n",
              "    </tr>\n",
              "    <tr>\n",
              "      <th>1</th>\n",
              "      <td>5.0</td>\n",
              "      <td>2.3</td>\n",
              "      <td>3.3</td>\n",
              "      <td>1.0</td>\n",
              "      <td>1</td>\n",
              "    </tr>\n",
              "    <tr>\n",
              "      <th>2</th>\n",
              "      <td>4.9</td>\n",
              "      <td>2.5</td>\n",
              "      <td>4.5</td>\n",
              "      <td>1.7</td>\n",
              "      <td>2</td>\n",
              "    </tr>\n",
              "    <tr>\n",
              "      <th>3</th>\n",
              "      <td>4.9</td>\n",
              "      <td>3.1</td>\n",
              "      <td>1.5</td>\n",
              "      <td>0.1</td>\n",
              "      <td>0</td>\n",
              "    </tr>\n",
              "    <tr>\n",
              "      <th>4</th>\n",
              "      <td>5.7</td>\n",
              "      <td>3.8</td>\n",
              "      <td>1.7</td>\n",
              "      <td>0.3</td>\n",
              "      <td>0</td>\n",
              "    </tr>\n",
              "  </tbody>\n",
              "</table>\n",
              "</div>\n",
              "      <button class=\"colab-df-convert\" onclick=\"convertToInteractive('df-01cdd828-deba-43b6-b86f-2c1ae353209c')\"\n",
              "              title=\"Convert this dataframe to an interactive table.\"\n",
              "              style=\"display:none;\">\n",
              "        \n",
              "  <svg xmlns=\"http://www.w3.org/2000/svg\" height=\"24px\"viewBox=\"0 0 24 24\"\n",
              "       width=\"24px\">\n",
              "    <path d=\"M0 0h24v24H0V0z\" fill=\"none\"/>\n",
              "    <path d=\"M18.56 5.44l.94 2.06.94-2.06 2.06-.94-2.06-.94-.94-2.06-.94 2.06-2.06.94zm-11 1L8.5 8.5l.94-2.06 2.06-.94-2.06-.94L8.5 2.5l-.94 2.06-2.06.94zm10 10l.94 2.06.94-2.06 2.06-.94-2.06-.94-.94-2.06-.94 2.06-2.06.94z\"/><path d=\"M17.41 7.96l-1.37-1.37c-.4-.4-.92-.59-1.43-.59-.52 0-1.04.2-1.43.59L10.3 9.45l-7.72 7.72c-.78.78-.78 2.05 0 2.83L4 21.41c.39.39.9.59 1.41.59.51 0 1.02-.2 1.41-.59l7.78-7.78 2.81-2.81c.8-.78.8-2.07 0-2.86zM5.41 20L4 18.59l7.72-7.72 1.47 1.35L5.41 20z\"/>\n",
              "  </svg>\n",
              "      </button>\n",
              "      \n",
              "  <style>\n",
              "    .colab-df-container {\n",
              "      display:flex;\n",
              "      flex-wrap:wrap;\n",
              "      gap: 12px;\n",
              "    }\n",
              "\n",
              "    .colab-df-convert {\n",
              "      background-color: #E8F0FE;\n",
              "      border: none;\n",
              "      border-radius: 50%;\n",
              "      cursor: pointer;\n",
              "      display: none;\n",
              "      fill: #1967D2;\n",
              "      height: 32px;\n",
              "      padding: 0 0 0 0;\n",
              "      width: 32px;\n",
              "    }\n",
              "\n",
              "    .colab-df-convert:hover {\n",
              "      background-color: #E2EBFA;\n",
              "      box-shadow: 0px 1px 2px rgba(60, 64, 67, 0.3), 0px 1px 3px 1px rgba(60, 64, 67, 0.15);\n",
              "      fill: #174EA6;\n",
              "    }\n",
              "\n",
              "    [theme=dark] .colab-df-convert {\n",
              "      background-color: #3B4455;\n",
              "      fill: #D2E3FC;\n",
              "    }\n",
              "\n",
              "    [theme=dark] .colab-df-convert:hover {\n",
              "      background-color: #434B5C;\n",
              "      box-shadow: 0px 1px 3px 1px rgba(0, 0, 0, 0.15);\n",
              "      filter: drop-shadow(0px 1px 2px rgba(0, 0, 0, 0.3));\n",
              "      fill: #FFFFFF;\n",
              "    }\n",
              "  </style>\n",
              "\n",
              "      <script>\n",
              "        const buttonEl =\n",
              "          document.querySelector('#df-01cdd828-deba-43b6-b86f-2c1ae353209c button.colab-df-convert');\n",
              "        buttonEl.style.display =\n",
              "          google.colab.kernel.accessAllowed ? 'block' : 'none';\n",
              "\n",
              "        async function convertToInteractive(key) {\n",
              "          const element = document.querySelector('#df-01cdd828-deba-43b6-b86f-2c1ae353209c');\n",
              "          const dataTable =\n",
              "            await google.colab.kernel.invokeFunction('convertToInteractive',\n",
              "                                                     [key], {});\n",
              "          if (!dataTable) return;\n",
              "\n",
              "          const docLinkHtml = 'Like what you see? Visit the ' +\n",
              "            '<a target=\"_blank\" href=https://colab.research.google.com/notebooks/data_table.ipynb>data table notebook</a>'\n",
              "            + ' to learn more about interactive tables.';\n",
              "          element.innerHTML = '';\n",
              "          dataTable['output_type'] = 'display_data';\n",
              "          await google.colab.output.renderOutput(dataTable, element);\n",
              "          const docLink = document.createElement('div');\n",
              "          docLink.innerHTML = docLinkHtml;\n",
              "          element.appendChild(docLink);\n",
              "        }\n",
              "      </script>\n",
              "    </div>\n",
              "  </div>\n",
              "  "
            ]
          },
          "metadata": {},
          "execution_count": 25
        }
      ]
    },
    {
      "cell_type": "code",
      "source": [
        "train_y = train.pop('Species')\n",
        "test_y = test.pop('Species')\n",
        "train.head() # the species column is now gone"
      ],
      "metadata": {
        "colab": {
          "base_uri": "https://localhost:8080/",
          "height": 206
        },
        "id": "52oko7uy_NGD",
        "outputId": "ad41b5fa-113b-4dac-e4c9-52ab3c94d406"
      },
      "execution_count": 26,
      "outputs": [
        {
          "output_type": "execute_result",
          "data": {
            "text/plain": [
              "   SepalLength  SepalWidth  PetalLength  PetalWidth\n",
              "0          6.4         2.8          5.6         2.2\n",
              "1          5.0         2.3          3.3         1.0\n",
              "2          4.9         2.5          4.5         1.7\n",
              "3          4.9         3.1          1.5         0.1\n",
              "4          5.7         3.8          1.7         0.3"
            ],
            "text/html": [
              "\n",
              "  <div id=\"df-b2dc890d-3a8d-4361-a644-aef290ffa994\">\n",
              "    <div class=\"colab-df-container\">\n",
              "      <div>\n",
              "<style scoped>\n",
              "    .dataframe tbody tr th:only-of-type {\n",
              "        vertical-align: middle;\n",
              "    }\n",
              "\n",
              "    .dataframe tbody tr th {\n",
              "        vertical-align: top;\n",
              "    }\n",
              "\n",
              "    .dataframe thead th {\n",
              "        text-align: right;\n",
              "    }\n",
              "</style>\n",
              "<table border=\"1\" class=\"dataframe\">\n",
              "  <thead>\n",
              "    <tr style=\"text-align: right;\">\n",
              "      <th></th>\n",
              "      <th>SepalLength</th>\n",
              "      <th>SepalWidth</th>\n",
              "      <th>PetalLength</th>\n",
              "      <th>PetalWidth</th>\n",
              "    </tr>\n",
              "  </thead>\n",
              "  <tbody>\n",
              "    <tr>\n",
              "      <th>0</th>\n",
              "      <td>6.4</td>\n",
              "      <td>2.8</td>\n",
              "      <td>5.6</td>\n",
              "      <td>2.2</td>\n",
              "    </tr>\n",
              "    <tr>\n",
              "      <th>1</th>\n",
              "      <td>5.0</td>\n",
              "      <td>2.3</td>\n",
              "      <td>3.3</td>\n",
              "      <td>1.0</td>\n",
              "    </tr>\n",
              "    <tr>\n",
              "      <th>2</th>\n",
              "      <td>4.9</td>\n",
              "      <td>2.5</td>\n",
              "      <td>4.5</td>\n",
              "      <td>1.7</td>\n",
              "    </tr>\n",
              "    <tr>\n",
              "      <th>3</th>\n",
              "      <td>4.9</td>\n",
              "      <td>3.1</td>\n",
              "      <td>1.5</td>\n",
              "      <td>0.1</td>\n",
              "    </tr>\n",
              "    <tr>\n",
              "      <th>4</th>\n",
              "      <td>5.7</td>\n",
              "      <td>3.8</td>\n",
              "      <td>1.7</td>\n",
              "      <td>0.3</td>\n",
              "    </tr>\n",
              "  </tbody>\n",
              "</table>\n",
              "</div>\n",
              "      <button class=\"colab-df-convert\" onclick=\"convertToInteractive('df-b2dc890d-3a8d-4361-a644-aef290ffa994')\"\n",
              "              title=\"Convert this dataframe to an interactive table.\"\n",
              "              style=\"display:none;\">\n",
              "        \n",
              "  <svg xmlns=\"http://www.w3.org/2000/svg\" height=\"24px\"viewBox=\"0 0 24 24\"\n",
              "       width=\"24px\">\n",
              "    <path d=\"M0 0h24v24H0V0z\" fill=\"none\"/>\n",
              "    <path d=\"M18.56 5.44l.94 2.06.94-2.06 2.06-.94-2.06-.94-.94-2.06-.94 2.06-2.06.94zm-11 1L8.5 8.5l.94-2.06 2.06-.94-2.06-.94L8.5 2.5l-.94 2.06-2.06.94zm10 10l.94 2.06.94-2.06 2.06-.94-2.06-.94-.94-2.06-.94 2.06-2.06.94z\"/><path d=\"M17.41 7.96l-1.37-1.37c-.4-.4-.92-.59-1.43-.59-.52 0-1.04.2-1.43.59L10.3 9.45l-7.72 7.72c-.78.78-.78 2.05 0 2.83L4 21.41c.39.39.9.59 1.41.59.51 0 1.02-.2 1.41-.59l7.78-7.78 2.81-2.81c.8-.78.8-2.07 0-2.86zM5.41 20L4 18.59l7.72-7.72 1.47 1.35L5.41 20z\"/>\n",
              "  </svg>\n",
              "      </button>\n",
              "      \n",
              "  <style>\n",
              "    .colab-df-container {\n",
              "      display:flex;\n",
              "      flex-wrap:wrap;\n",
              "      gap: 12px;\n",
              "    }\n",
              "\n",
              "    .colab-df-convert {\n",
              "      background-color: #E8F0FE;\n",
              "      border: none;\n",
              "      border-radius: 50%;\n",
              "      cursor: pointer;\n",
              "      display: none;\n",
              "      fill: #1967D2;\n",
              "      height: 32px;\n",
              "      padding: 0 0 0 0;\n",
              "      width: 32px;\n",
              "    }\n",
              "\n",
              "    .colab-df-convert:hover {\n",
              "      background-color: #E2EBFA;\n",
              "      box-shadow: 0px 1px 2px rgba(60, 64, 67, 0.3), 0px 1px 3px 1px rgba(60, 64, 67, 0.15);\n",
              "      fill: #174EA6;\n",
              "    }\n",
              "\n",
              "    [theme=dark] .colab-df-convert {\n",
              "      background-color: #3B4455;\n",
              "      fill: #D2E3FC;\n",
              "    }\n",
              "\n",
              "    [theme=dark] .colab-df-convert:hover {\n",
              "      background-color: #434B5C;\n",
              "      box-shadow: 0px 1px 3px 1px rgba(0, 0, 0, 0.15);\n",
              "      filter: drop-shadow(0px 1px 2px rgba(0, 0, 0, 0.3));\n",
              "      fill: #FFFFFF;\n",
              "    }\n",
              "  </style>\n",
              "\n",
              "      <script>\n",
              "        const buttonEl =\n",
              "          document.querySelector('#df-b2dc890d-3a8d-4361-a644-aef290ffa994 button.colab-df-convert');\n",
              "        buttonEl.style.display =\n",
              "          google.colab.kernel.accessAllowed ? 'block' : 'none';\n",
              "\n",
              "        async function convertToInteractive(key) {\n",
              "          const element = document.querySelector('#df-b2dc890d-3a8d-4361-a644-aef290ffa994');\n",
              "          const dataTable =\n",
              "            await google.colab.kernel.invokeFunction('convertToInteractive',\n",
              "                                                     [key], {});\n",
              "          if (!dataTable) return;\n",
              "\n",
              "          const docLinkHtml = 'Like what you see? Visit the ' +\n",
              "            '<a target=\"_blank\" href=https://colab.research.google.com/notebooks/data_table.ipynb>data table notebook</a>'\n",
              "            + ' to learn more about interactive tables.';\n",
              "          element.innerHTML = '';\n",
              "          dataTable['output_type'] = 'display_data';\n",
              "          await google.colab.output.renderOutput(dataTable, element);\n",
              "          const docLink = document.createElement('div');\n",
              "          docLink.innerHTML = docLinkHtml;\n",
              "          element.appendChild(docLink);\n",
              "        }\n",
              "      </script>\n",
              "    </div>\n",
              "  </div>\n",
              "  "
            ]
          },
          "metadata": {},
          "execution_count": 26
        }
      ]
    },
    {
      "cell_type": "markdown",
      "source": [
        "* In the above column we pop the species column off and use that as our label."
      ],
      "metadata": {
        "id": "wQLHaAdk_YGt"
      }
    },
    {
      "cell_type": "code",
      "source": [
        "train.shape"
      ],
      "metadata": {
        "colab": {
          "base_uri": "https://localhost:8080/"
        },
        "id": "TgyAMEvF_mAI",
        "outputId": "4bff2984-5fab-4806-b9bf-d9deb3db9959"
      },
      "execution_count": 27,
      "outputs": [
        {
          "output_type": "execute_result",
          "data": {
            "text/plain": [
              "(120, 4)"
            ]
          },
          "metadata": {},
          "execution_count": 27
        }
      ]
    },
    {
      "cell_type": "markdown",
      "source": [
        "### 1) Input Function"
      ],
      "metadata": {
        "id": "APiCs0cWBFuF"
      }
    },
    {
      "cell_type": "code",
      "source": [
        "def input_fn(features, labels, training=True, batch_size=256):\n",
        "    # Convert the inputs to a Dataset.\n",
        "    dataset = tf.data.Dataset.from_tensor_slices((dict(features), labels))\n",
        "\n",
        "    # Shuffle and repeat if you are in training mode.\n",
        "    if training:\n",
        "        dataset = dataset.shuffle(1000).repeat()\n",
        "    \n",
        "    return dataset.batch(batch_size)"
      ],
      "metadata": {
        "id": "uBLCcf7qAG9r"
      },
      "execution_count": 28,
      "outputs": []
    },
    {
      "cell_type": "markdown",
      "source": [
        "### 2) Feature Columns"
      ],
      "metadata": {
        "id": "8bohnie6AbPy"
      }
    },
    {
      "cell_type": "code",
      "source": [
        "# Feature columns describe how to use the input.\n",
        "my_feature_columns = []\n",
        "for key in train.keys():\n",
        "    my_feature_columns.append(tf.feature_column.numeric_column(key=key))\n",
        "print(my_feature_columns)"
      ],
      "metadata": {
        "colab": {
          "base_uri": "https://localhost:8080/"
        },
        "id": "eYAyOPUDAU_n",
        "outputId": "ea958d91-897e-4fd4-b38f-faec92acab9e"
      },
      "execution_count": 29,
      "outputs": [
        {
          "output_type": "stream",
          "name": "stdout",
          "text": [
            "[NumericColumn(key='SepalLength', shape=(1,), default_value=None, dtype=tf.float32, normalizer_fn=None), NumericColumn(key='SepalWidth', shape=(1,), default_value=None, dtype=tf.float32, normalizer_fn=None), NumericColumn(key='PetalLength', shape=(1,), default_value=None, dtype=tf.float32, normalizer_fn=None), NumericColumn(key='PetalWidth', shape=(1,), default_value=None, dtype=tf.float32, normalizer_fn=None)]\n"
          ]
        }
      ]
    },
    {
      "cell_type": "markdown",
      "source": [
        "### 3) Building the Model"
      ],
      "metadata": {
        "id": "n7nIMGf2BO2W"
      }
    },
    {
      "cell_type": "code",
      "source": [
        "# Build a DNN with 2 hidden layers with 30 and 10 hidden nodes each.\n",
        "classifier = tf.estimator.DNNClassifier(\n",
        "    feature_columns=my_feature_columns,\n",
        "    # Two hidden layers of 30 and 10 nodes respectively.\n",
        "    hidden_units=[30, 10],\n",
        "    # The model must choose between 3 classes.\n",
        "    n_classes=3)"
      ],
      "metadata": {
        "colab": {
          "base_uri": "https://localhost:8080/"
        },
        "id": "0pyfyB2rBUV8",
        "outputId": "8fef6d09-7369-4bd9-b63b-9dc74622ae53"
      },
      "execution_count": 30,
      "outputs": [
        {
          "output_type": "stream",
          "name": "stdout",
          "text": [
            "INFO:tensorflow:Using default config.\n",
            "WARNING:tensorflow:Using temporary folder as model directory: /tmp/tmp7y6lo6lv\n",
            "INFO:tensorflow:Using config: {'_model_dir': '/tmp/tmp7y6lo6lv', '_tf_random_seed': None, '_save_summary_steps': 100, '_save_checkpoints_steps': None, '_save_checkpoints_secs': 600, '_session_config': allow_soft_placement: true\n",
            "graph_options {\n",
            "  rewrite_options {\n",
            "    meta_optimizer_iterations: ONE\n",
            "  }\n",
            "}\n",
            ", '_keep_checkpoint_max': 5, '_keep_checkpoint_every_n_hours': 10000, '_log_step_count_steps': 100, '_train_distribute': None, '_device_fn': None, '_protocol': None, '_eval_distribute': None, '_experimental_distribute': None, '_experimental_max_worker_delay_secs': None, '_session_creation_timeout_secs': 7200, '_checkpoint_save_graph_def': True, '_service': None, '_cluster_spec': ClusterSpec({}), '_task_type': 'worker', '_task_id': 0, '_global_id_in_cluster': 0, '_master': '', '_evaluation_master': '', '_is_chief': True, '_num_ps_replicas': 0, '_num_worker_replicas': 1}\n"
          ]
        }
      ]
    },
    {
      "cell_type": "markdown",
      "source": [
        "### 3) Training"
      ],
      "metadata": {
        "id": "prkpN8kzBblb"
      }
    },
    {
      "cell_type": "code",
      "source": [
        "classifier.train(\n",
        "    input_fn=lambda: input_fn(train, train_y, training=True),\n",
        "    steps=5000)\n",
        "# We include a lambda to avoid creating an inner function previously"
      ],
      "metadata": {
        "colab": {
          "base_uri": "https://localhost:8080/"
        },
        "id": "CsRNQgQEBgm5",
        "outputId": "cbea7b4e-13c1-4288-fc9e-6a49159a0436"
      },
      "execution_count": 31,
      "outputs": [
        {
          "output_type": "stream",
          "name": "stdout",
          "text": [
            "INFO:tensorflow:Calling model_fn.\n",
            "INFO:tensorflow:Done calling model_fn.\n",
            "INFO:tensorflow:Create CheckpointSaverHook.\n",
            "INFO:tensorflow:Graph was finalized.\n",
            "INFO:tensorflow:Running local_init_op.\n",
            "INFO:tensorflow:Done running local_init_op.\n",
            "INFO:tensorflow:Calling checkpoint listeners before saving checkpoint 0...\n",
            "INFO:tensorflow:Saving checkpoints for 0 into /tmp/tmp7y6lo6lv/model.ckpt.\n",
            "INFO:tensorflow:Calling checkpoint listeners after saving checkpoint 0...\n",
            "INFO:tensorflow:loss = 1.1726787, step = 0\n",
            "INFO:tensorflow:global_step/sec: 338.994\n",
            "INFO:tensorflow:loss = 1.0335783, step = 100 (0.300 sec)\n",
            "INFO:tensorflow:global_step/sec: 395.782\n",
            "INFO:tensorflow:loss = 0.9781661, step = 200 (0.252 sec)\n",
            "INFO:tensorflow:global_step/sec: 406.288\n",
            "INFO:tensorflow:loss = 0.87747, step = 300 (0.243 sec)\n",
            "INFO:tensorflow:global_step/sec: 452.488\n",
            "INFO:tensorflow:loss = 0.82687974, step = 400 (0.221 sec)\n",
            "INFO:tensorflow:global_step/sec: 451.5\n",
            "INFO:tensorflow:loss = 0.77929187, step = 500 (0.222 sec)\n",
            "INFO:tensorflow:global_step/sec: 430.377\n",
            "INFO:tensorflow:loss = 0.7445955, step = 600 (0.235 sec)\n",
            "INFO:tensorflow:global_step/sec: 415.938\n",
            "INFO:tensorflow:loss = 0.7174783, step = 700 (0.237 sec)\n",
            "INFO:tensorflow:global_step/sec: 442.818\n",
            "INFO:tensorflow:loss = 0.6986761, step = 800 (0.229 sec)\n",
            "INFO:tensorflow:global_step/sec: 426.951\n",
            "INFO:tensorflow:loss = 0.6635533, step = 900 (0.234 sec)\n",
            "INFO:tensorflow:global_step/sec: 359.581\n",
            "INFO:tensorflow:loss = 0.6538857, step = 1000 (0.279 sec)\n",
            "INFO:tensorflow:global_step/sec: 404.879\n",
            "INFO:tensorflow:loss = 0.6304774, step = 1100 (0.248 sec)\n",
            "INFO:tensorflow:global_step/sec: 381.894\n",
            "INFO:tensorflow:loss = 0.61844444, step = 1200 (0.261 sec)\n",
            "INFO:tensorflow:global_step/sec: 380.894\n",
            "INFO:tensorflow:loss = 0.5934565, step = 1300 (0.261 sec)\n",
            "INFO:tensorflow:global_step/sec: 403.597\n",
            "INFO:tensorflow:loss = 0.5776884, step = 1400 (0.245 sec)\n",
            "INFO:tensorflow:global_step/sec: 421.322\n",
            "INFO:tensorflow:loss = 0.56653553, step = 1500 (0.241 sec)\n",
            "INFO:tensorflow:global_step/sec: 383.232\n",
            "INFO:tensorflow:loss = 0.5503111, step = 1600 (0.259 sec)\n",
            "INFO:tensorflow:global_step/sec: 427.799\n",
            "INFO:tensorflow:loss = 0.52793306, step = 1700 (0.231 sec)\n",
            "INFO:tensorflow:global_step/sec: 395.77\n",
            "INFO:tensorflow:loss = 0.49406493, step = 1800 (0.253 sec)\n",
            "INFO:tensorflow:global_step/sec: 390.011\n",
            "INFO:tensorflow:loss = 0.48695165, step = 1900 (0.259 sec)\n",
            "INFO:tensorflow:global_step/sec: 425.715\n",
            "INFO:tensorflow:loss = 0.47217137, step = 2000 (0.236 sec)\n",
            "INFO:tensorflow:global_step/sec: 424.8\n",
            "INFO:tensorflow:loss = 0.45906696, step = 2100 (0.236 sec)\n",
            "INFO:tensorflow:global_step/sec: 374.174\n",
            "INFO:tensorflow:loss = 0.44836372, step = 2200 (0.267 sec)\n",
            "INFO:tensorflow:global_step/sec: 376.077\n",
            "INFO:tensorflow:loss = 0.43505692, step = 2300 (0.263 sec)\n",
            "INFO:tensorflow:global_step/sec: 342.012\n",
            "INFO:tensorflow:loss = 0.42710578, step = 2400 (0.292 sec)\n",
            "INFO:tensorflow:global_step/sec: 388.903\n",
            "INFO:tensorflow:loss = 0.4135561, step = 2500 (0.257 sec)\n",
            "INFO:tensorflow:global_step/sec: 401.067\n",
            "INFO:tensorflow:loss = 0.40541998, step = 2600 (0.253 sec)\n",
            "INFO:tensorflow:global_step/sec: 429.939\n",
            "INFO:tensorflow:loss = 0.40783545, step = 2700 (0.229 sec)\n",
            "INFO:tensorflow:global_step/sec: 462.365\n",
            "INFO:tensorflow:loss = 0.39100698, step = 2800 (0.216 sec)\n",
            "INFO:tensorflow:global_step/sec: 438.463\n",
            "INFO:tensorflow:loss = 0.4030071, step = 2900 (0.231 sec)\n",
            "INFO:tensorflow:global_step/sec: 383.968\n",
            "INFO:tensorflow:loss = 0.3926206, step = 3000 (0.262 sec)\n",
            "INFO:tensorflow:global_step/sec: 242.296\n",
            "INFO:tensorflow:loss = 0.38369343, step = 3100 (0.413 sec)\n",
            "INFO:tensorflow:global_step/sec: 249.787\n",
            "INFO:tensorflow:loss = 0.3736151, step = 3200 (0.400 sec)\n",
            "INFO:tensorflow:global_step/sec: 161.215\n",
            "INFO:tensorflow:loss = 0.3731042, step = 3300 (0.616 sec)\n",
            "INFO:tensorflow:global_step/sec: 123.824\n",
            "INFO:tensorflow:loss = 0.35838068, step = 3400 (0.807 sec)\n",
            "INFO:tensorflow:global_step/sec: 138.712\n",
            "INFO:tensorflow:loss = 0.36665517, step = 3500 (0.727 sec)\n",
            "INFO:tensorflow:global_step/sec: 179.686\n",
            "INFO:tensorflow:loss = 0.35869038, step = 3600 (0.556 sec)\n",
            "INFO:tensorflow:global_step/sec: 214.082\n",
            "INFO:tensorflow:loss = 0.35070017, step = 3700 (0.467 sec)\n",
            "INFO:tensorflow:global_step/sec: 166.01\n",
            "INFO:tensorflow:loss = 0.33868527, step = 3800 (0.602 sec)\n",
            "INFO:tensorflow:global_step/sec: 237.481\n",
            "INFO:tensorflow:loss = 0.34326583, step = 3900 (0.421 sec)\n",
            "INFO:tensorflow:global_step/sec: 191.774\n",
            "INFO:tensorflow:loss = 0.34223792, step = 4000 (0.520 sec)\n",
            "INFO:tensorflow:global_step/sec: 205.577\n",
            "INFO:tensorflow:loss = 0.33608627, step = 4100 (0.482 sec)\n",
            "INFO:tensorflow:global_step/sec: 149.622\n",
            "INFO:tensorflow:loss = 0.32735592, step = 4200 (0.673 sec)\n",
            "INFO:tensorflow:global_step/sec: 157.146\n",
            "INFO:tensorflow:loss = 0.3348501, step = 4300 (0.637 sec)\n",
            "INFO:tensorflow:global_step/sec: 149.19\n",
            "INFO:tensorflow:loss = 0.3254363, step = 4400 (0.671 sec)\n",
            "INFO:tensorflow:global_step/sec: 165.031\n",
            "INFO:tensorflow:loss = 0.3196601, step = 4500 (0.600 sec)\n",
            "INFO:tensorflow:global_step/sec: 203.647\n",
            "INFO:tensorflow:loss = 0.30816182, step = 4600 (0.497 sec)\n",
            "INFO:tensorflow:global_step/sec: 144.089\n",
            "INFO:tensorflow:loss = 0.29714245, step = 4700 (0.695 sec)\n",
            "INFO:tensorflow:global_step/sec: 208.774\n",
            "INFO:tensorflow:loss = 0.29928344, step = 4800 (0.471 sec)\n",
            "INFO:tensorflow:global_step/sec: 226.21\n",
            "INFO:tensorflow:loss = 0.30065835, step = 4900 (0.446 sec)\n",
            "INFO:tensorflow:Calling checkpoint listeners before saving checkpoint 5000...\n",
            "INFO:tensorflow:Saving checkpoints for 5000 into /tmp/tmp7y6lo6lv/model.ckpt.\n",
            "INFO:tensorflow:Calling checkpoint listeners after saving checkpoint 5000...\n",
            "INFO:tensorflow:Loss for final step: 0.2933461.\n"
          ]
        },
        {
          "output_type": "execute_result",
          "data": {
            "text/plain": [
              "<tensorflow_estimator.python.estimator.canned.dnn.DNNClassifierV2 at 0x7f5bbdeac650>"
            ]
          },
          "metadata": {},
          "execution_count": 31
        }
      ]
    },
    {
      "cell_type": "markdown",
      "source": [
        "### 4) Evaluaton"
      ],
      "metadata": {
        "id": "RYePKegrB2jk"
      }
    },
    {
      "cell_type": "code",
      "source": [
        "eval_result = classifier.evaluate(\n",
        "    input_fn=lambda: input_fn(test, test_y, training=False))\n",
        "\n",
        "print('\\nTest set accuracy: {accuracy:0.3f}\\n'.format(**eval_result))"
      ],
      "metadata": {
        "colab": {
          "base_uri": "https://localhost:8080/"
        },
        "id": "RZBz91JtB0Nc",
        "outputId": "734b70c5-95b9-4fcd-ece3-904711c11846"
      },
      "execution_count": 32,
      "outputs": [
        {
          "output_type": "stream",
          "name": "stdout",
          "text": [
            "INFO:tensorflow:Calling model_fn.\n",
            "INFO:tensorflow:Done calling model_fn.\n",
            "INFO:tensorflow:Starting evaluation at 2022-04-14T07:44:21\n",
            "INFO:tensorflow:Graph was finalized.\n",
            "INFO:tensorflow:Restoring parameters from /tmp/tmp7y6lo6lv/model.ckpt-5000\n",
            "INFO:tensorflow:Running local_init_op.\n",
            "INFO:tensorflow:Done running local_init_op.\n",
            "INFO:tensorflow:Inference Time : 0.28735s\n",
            "INFO:tensorflow:Finished evaluation at 2022-04-14-07:44:21\n",
            "INFO:tensorflow:Saving dict for global step 5000: accuracy = 0.96666664, average_loss = 0.34164742, global_step = 5000, loss = 0.34164742\n",
            "INFO:tensorflow:Saving 'checkpoint_path' summary for global step 5000: /tmp/tmp7y6lo6lv/model.ckpt-5000\n",
            "\n",
            "Test set accuracy: 0.967\n",
            "\n"
          ]
        }
      ]
    },
    {
      "cell_type": "markdown",
      "source": [
        "### 5) Prediction"
      ],
      "metadata": {
        "id": "cA7DsI1hCCnr"
      }
    },
    {
      "cell_type": "code",
      "source": [
        "def input_fn(features, batch_size=256):\n",
        "    # Convert the inputs to a Dataset without labels.\n",
        "    return tf.data.Dataset.from_tensor_slices(dict(features)).batch(batch_size)\n",
        "\n",
        "features = ['SepalLength', 'SepalWidth', 'PetalLength', 'PetalWidth']\n",
        "predict = {}\n",
        "\n",
        "print(\"Please type numeric values as prompted.\")\n",
        "for feature in features:\n",
        "  valid = True\n",
        "  while valid: \n",
        "    val = input(feature + \": \")\n",
        "    if not val.isdigit(): valid = False\n",
        "\n",
        "  predict[feature] = [float(val)]\n",
        "\n",
        "predictions = classifier.predict(input_fn=lambda: input_fn(predict))\n",
        "for pred_dict in predictions:\n",
        "    class_id = pred_dict['class_ids'][0]\n",
        "    probability = pred_dict['probabilities'][class_id]\n",
        "\n",
        "    print('Prediction is \"{}\" ({:.1f}%)'.format(\n",
        "        SPECIES[class_id], 100 * probability))"
      ],
      "metadata": {
        "colab": {
          "base_uri": "https://localhost:8080/"
        },
        "id": "g_QWSFrHCCKP",
        "outputId": "1ab2c8ba-14f8-46cf-b904-8bf90c56cfea"
      },
      "execution_count": 33,
      "outputs": [
        {
          "output_type": "stream",
          "name": "stdout",
          "text": [
            "Please type numeric values as prompted.\n",
            "SepalLength: 1.2\n",
            "SepalWidth: 1.7\n",
            "PetalLength: 1.5\n",
            "PetalWidth: 1.1\n",
            "INFO:tensorflow:Calling model_fn.\n",
            "INFO:tensorflow:Done calling model_fn.\n",
            "INFO:tensorflow:Graph was finalized.\n",
            "INFO:tensorflow:Restoring parameters from /tmp/tmp7y6lo6lv/model.ckpt-5000\n",
            "INFO:tensorflow:Running local_init_op.\n",
            "INFO:tensorflow:Done running local_init_op.\n",
            "Prediction is \"Versicolor\" (46.6%)\n"
          ]
        }
      ]
    },
    {
      "cell_type": "markdown",
      "source": [
        "# C) Clustering"
      ],
      "metadata": {
        "id": "4XYs3_afCs9m"
      }
    },
    {
      "cell_type": "markdown",
      "source": [
        "## Hidden Makov Models"
      ],
      "metadata": {
        "id": "hjj--TuqDTiy"
      }
    },
    {
      "cell_type": "code",
      "source": [
        "%tensorflow_version 2.x  # this line is not required unless you are in a notebook"
      ],
      "metadata": {
        "colab": {
          "base_uri": "https://localhost:8080/"
        },
        "id": "MfD3QQbHC6xR",
        "outputId": "0aec4b59-ee49-4616-84f8-410b60bd1b11"
      },
      "execution_count": 35,
      "outputs": [
        {
          "output_type": "stream",
          "name": "stdout",
          "text": [
            "`%tensorflow_version` only switches the major version: 1.x or 2.x.\n",
            "You set: `2.x  # this line is not required unless you are in a notebook`. This will be interpreted as: `2.x`.\n",
            "\n",
            "\n",
            "TensorFlow is already loaded. Please restart the runtime to change versions.\n"
          ]
        }
      ]
    },
    {
      "cell_type": "code",
      "source": [
        "!pip install tensorflow_probability==0.8.0rc0 --user --upgrade"
      ],
      "metadata": {
        "colab": {
          "base_uri": "https://localhost:8080/",
          "height": 332
        },
        "id": "UZl5qo-6C_Jr",
        "outputId": "260663f0-0cf0-4631-ca66-bc62bd25792e"
      },
      "execution_count": 36,
      "outputs": [
        {
          "output_type": "stream",
          "name": "stdout",
          "text": [
            "Collecting tensorflow_probability==0.8.0rc0\n",
            "  Downloading tensorflow_probability-0.8.0rc0-py2.py3-none-any.whl (2.5 MB)\n",
            "\u001b[?25l\r\u001b[K     |▏                               | 10 kB 23.3 MB/s eta 0:00:01\r\u001b[K     |▎                               | 20 kB 28.1 MB/s eta 0:00:01\r\u001b[K     |▍                               | 30 kB 29.8 MB/s eta 0:00:01\r\u001b[K     |▌                               | 40 kB 31.8 MB/s eta 0:00:01\r\u001b[K     |▋                               | 51 kB 23.7 MB/s eta 0:00:01\r\u001b[K     |▉                               | 61 kB 25.8 MB/s eta 0:00:01\r\u001b[K     |█                               | 71 kB 27.5 MB/s eta 0:00:01\r\u001b[K     |█                               | 81 kB 25.8 MB/s eta 0:00:01\r\u001b[K     |█▏                              | 92 kB 27.6 MB/s eta 0:00:01\r\u001b[K     |█▎                              | 102 kB 29.5 MB/s eta 0:00:01\r\u001b[K     |█▍                              | 112 kB 29.5 MB/s eta 0:00:01\r\u001b[K     |█▋                              | 122 kB 29.5 MB/s eta 0:00:01\r\u001b[K     |█▊                              | 133 kB 29.5 MB/s eta 0:00:01\r\u001b[K     |█▉                              | 143 kB 29.5 MB/s eta 0:00:01\r\u001b[K     |██                              | 153 kB 29.5 MB/s eta 0:00:01\r\u001b[K     |██                              | 163 kB 29.5 MB/s eta 0:00:01\r\u001b[K     |██▏                             | 174 kB 29.5 MB/s eta 0:00:01\r\u001b[K     |██▍                             | 184 kB 29.5 MB/s eta 0:00:01\r\u001b[K     |██▌                             | 194 kB 29.5 MB/s eta 0:00:01\r\u001b[K     |██▋                             | 204 kB 29.5 MB/s eta 0:00:01\r\u001b[K     |██▊                             | 215 kB 29.5 MB/s eta 0:00:01\r\u001b[K     |██▉                             | 225 kB 29.5 MB/s eta 0:00:01\r\u001b[K     |███                             | 235 kB 29.5 MB/s eta 0:00:01\r\u001b[K     |███▏                            | 245 kB 29.5 MB/s eta 0:00:01\r\u001b[K     |███▎                            | 256 kB 29.5 MB/s eta 0:00:01\r\u001b[K     |███▍                            | 266 kB 29.5 MB/s eta 0:00:01\r\u001b[K     |███▌                            | 276 kB 29.5 MB/s eta 0:00:01\r\u001b[K     |███▋                            | 286 kB 29.5 MB/s eta 0:00:01\r\u001b[K     |███▊                            | 296 kB 29.5 MB/s eta 0:00:01\r\u001b[K     |████                            | 307 kB 29.5 MB/s eta 0:00:01\r\u001b[K     |████                            | 317 kB 29.5 MB/s eta 0:00:01\r\u001b[K     |████▏                           | 327 kB 29.5 MB/s eta 0:00:01\r\u001b[K     |████▎                           | 337 kB 29.5 MB/s eta 0:00:01\r\u001b[K     |████▍                           | 348 kB 29.5 MB/s eta 0:00:01\r\u001b[K     |████▌                           | 358 kB 29.5 MB/s eta 0:00:01\r\u001b[K     |████▊                           | 368 kB 29.5 MB/s eta 0:00:01\r\u001b[K     |████▉                           | 378 kB 29.5 MB/s eta 0:00:01\r\u001b[K     |█████                           | 389 kB 29.5 MB/s eta 0:00:01\r\u001b[K     |█████                           | 399 kB 29.5 MB/s eta 0:00:01\r\u001b[K     |█████▏                          | 409 kB 29.5 MB/s eta 0:00:01\r\u001b[K     |█████▎                          | 419 kB 29.5 MB/s eta 0:00:01\r\u001b[K     |█████▌                          | 430 kB 29.5 MB/s eta 0:00:01\r\u001b[K     |█████▋                          | 440 kB 29.5 MB/s eta 0:00:01\r\u001b[K     |█████▊                          | 450 kB 29.5 MB/s eta 0:00:01\r\u001b[K     |█████▉                          | 460 kB 29.5 MB/s eta 0:00:01\r\u001b[K     |██████                          | 471 kB 29.5 MB/s eta 0:00:01\r\u001b[K     |██████                          | 481 kB 29.5 MB/s eta 0:00:01\r\u001b[K     |██████▎                         | 491 kB 29.5 MB/s eta 0:00:01\r\u001b[K     |██████▍                         | 501 kB 29.5 MB/s eta 0:00:01\r\u001b[K     |██████▌                         | 512 kB 29.5 MB/s eta 0:00:01\r\u001b[K     |██████▋                         | 522 kB 29.5 MB/s eta 0:00:01\r\u001b[K     |██████▊                         | 532 kB 29.5 MB/s eta 0:00:01\r\u001b[K     |██████▉                         | 542 kB 29.5 MB/s eta 0:00:01\r\u001b[K     |███████                         | 552 kB 29.5 MB/s eta 0:00:01\r\u001b[K     |███████▏                        | 563 kB 29.5 MB/s eta 0:00:01\r\u001b[K     |███████▎                        | 573 kB 29.5 MB/s eta 0:00:01\r\u001b[K     |███████▍                        | 583 kB 29.5 MB/s eta 0:00:01\r\u001b[K     |███████▌                        | 593 kB 29.5 MB/s eta 0:00:01\r\u001b[K     |███████▊                        | 604 kB 29.5 MB/s eta 0:00:01\r\u001b[K     |███████▉                        | 614 kB 29.5 MB/s eta 0:00:01\r\u001b[K     |████████                        | 624 kB 29.5 MB/s eta 0:00:01\r\u001b[K     |████████                        | 634 kB 29.5 MB/s eta 0:00:01\r\u001b[K     |████████▏                       | 645 kB 29.5 MB/s eta 0:00:01\r\u001b[K     |████████▎                       | 655 kB 29.5 MB/s eta 0:00:01\r\u001b[K     |████████▌                       | 665 kB 29.5 MB/s eta 0:00:01\r\u001b[K     |████████▋                       | 675 kB 29.5 MB/s eta 0:00:01\r\u001b[K     |████████▊                       | 686 kB 29.5 MB/s eta 0:00:01\r\u001b[K     |████████▉                       | 696 kB 29.5 MB/s eta 0:00:01\r\u001b[K     |█████████                       | 706 kB 29.5 MB/s eta 0:00:01\r\u001b[K     |█████████                       | 716 kB 29.5 MB/s eta 0:00:01\r\u001b[K     |█████████▎                      | 727 kB 29.5 MB/s eta 0:00:01\r\u001b[K     |█████████▍                      | 737 kB 29.5 MB/s eta 0:00:01\r\u001b[K     |█████████▌                      | 747 kB 29.5 MB/s eta 0:00:01\r\u001b[K     |█████████▋                      | 757 kB 29.5 MB/s eta 0:00:01\r\u001b[K     |█████████▊                      | 768 kB 29.5 MB/s eta 0:00:01\r\u001b[K     |█████████▉                      | 778 kB 29.5 MB/s eta 0:00:01\r\u001b[K     |██████████                      | 788 kB 29.5 MB/s eta 0:00:01\r\u001b[K     |██████████▏                     | 798 kB 29.5 MB/s eta 0:00:01\r\u001b[K     |██████████▎                     | 808 kB 29.5 MB/s eta 0:00:01\r\u001b[K     |██████████▍                     | 819 kB 29.5 MB/s eta 0:00:01\r\u001b[K     |██████████▌                     | 829 kB 29.5 MB/s eta 0:00:01\r\u001b[K     |██████████▋                     | 839 kB 29.5 MB/s eta 0:00:01\r\u001b[K     |██████████▉                     | 849 kB 29.5 MB/s eta 0:00:01\r\u001b[K     |███████████                     | 860 kB 29.5 MB/s eta 0:00:01\r\u001b[K     |███████████                     | 870 kB 29.5 MB/s eta 0:00:01\r\u001b[K     |███████████▏                    | 880 kB 29.5 MB/s eta 0:00:01\r\u001b[K     |███████████▎                    | 890 kB 29.5 MB/s eta 0:00:01\r\u001b[K     |███████████▍                    | 901 kB 29.5 MB/s eta 0:00:01\r\u001b[K     |███████████▋                    | 911 kB 29.5 MB/s eta 0:00:01\r\u001b[K     |███████████▊                    | 921 kB 29.5 MB/s eta 0:00:01\r\u001b[K     |███████████▉                    | 931 kB 29.5 MB/s eta 0:00:01\r\u001b[K     |████████████                    | 942 kB 29.5 MB/s eta 0:00:01\r\u001b[K     |████████████                    | 952 kB 29.5 MB/s eta 0:00:01\r\u001b[K     |████████████▏                   | 962 kB 29.5 MB/s eta 0:00:01\r\u001b[K     |████████████▍                   | 972 kB 29.5 MB/s eta 0:00:01\r\u001b[K     |████████████▌                   | 983 kB 29.5 MB/s eta 0:00:01\r\u001b[K     |████████████▋                   | 993 kB 29.5 MB/s eta 0:00:01\r\u001b[K     |████████████▊                   | 1.0 MB 29.5 MB/s eta 0:00:01\r\u001b[K     |████████████▉                   | 1.0 MB 29.5 MB/s eta 0:00:01\r\u001b[K     |█████████████                   | 1.0 MB 29.5 MB/s eta 0:00:01\r\u001b[K     |█████████████▏                  | 1.0 MB 29.5 MB/s eta 0:00:01\r\u001b[K     |█████████████▎                  | 1.0 MB 29.5 MB/s eta 0:00:01\r\u001b[K     |█████████████▍                  | 1.1 MB 29.5 MB/s eta 0:00:01\r\u001b[K     |█████████████▌                  | 1.1 MB 29.5 MB/s eta 0:00:01\r\u001b[K     |█████████████▋                  | 1.1 MB 29.5 MB/s eta 0:00:01\r\u001b[K     |█████████████▊                  | 1.1 MB 29.5 MB/s eta 0:00:01\r\u001b[K     |██████████████                  | 1.1 MB 29.5 MB/s eta 0:00:01\r\u001b[K     |██████████████                  | 1.1 MB 29.5 MB/s eta 0:00:01\r\u001b[K     |██████████████▏                 | 1.1 MB 29.5 MB/s eta 0:00:01\r\u001b[K     |██████████████▎                 | 1.1 MB 29.5 MB/s eta 0:00:01\r\u001b[K     |██████████████▍                 | 1.1 MB 29.5 MB/s eta 0:00:01\r\u001b[K     |██████████████▋                 | 1.1 MB 29.5 MB/s eta 0:00:01\r\u001b[K     |██████████████▊                 | 1.2 MB 29.5 MB/s eta 0:00:01\r\u001b[K     |██████████████▉                 | 1.2 MB 29.5 MB/s eta 0:00:01\r\u001b[K     |███████████████                 | 1.2 MB 29.5 MB/s eta 0:00:01\r\u001b[K     |███████████████                 | 1.2 MB 29.5 MB/s eta 0:00:01\r\u001b[K     |███████████████▏                | 1.2 MB 29.5 MB/s eta 0:00:01\r\u001b[K     |███████████████▍                | 1.2 MB 29.5 MB/s eta 0:00:01\r\u001b[K     |███████████████▌                | 1.2 MB 29.5 MB/s eta 0:00:01\r\u001b[K     |███████████████▋                | 1.2 MB 29.5 MB/s eta 0:00:01\r\u001b[K     |███████████████▊                | 1.2 MB 29.5 MB/s eta 0:00:01\r\u001b[K     |███████████████▉                | 1.2 MB 29.5 MB/s eta 0:00:01\r\u001b[K     |████████████████                | 1.3 MB 29.5 MB/s eta 0:00:01\r\u001b[K     |████████████████▏               | 1.3 MB 29.5 MB/s eta 0:00:01\r\u001b[K     |████████████████▎               | 1.3 MB 29.5 MB/s eta 0:00:01\r\u001b[K     |████████████████▍               | 1.3 MB 29.5 MB/s eta 0:00:01\r\u001b[K     |████████████████▌               | 1.3 MB 29.5 MB/s eta 0:00:01\r\u001b[K     |████████████████▋               | 1.3 MB 29.5 MB/s eta 0:00:01\r\u001b[K     |████████████████▊               | 1.3 MB 29.5 MB/s eta 0:00:01\r\u001b[K     |█████████████████               | 1.3 MB 29.5 MB/s eta 0:00:01\r\u001b[K     |█████████████████               | 1.3 MB 29.5 MB/s eta 0:00:01\r\u001b[K     |█████████████████▏              | 1.4 MB 29.5 MB/s eta 0:00:01\r\u001b[K     |█████████████████▎              | 1.4 MB 29.5 MB/s eta 0:00:01\r\u001b[K     |█████████████████▍              | 1.4 MB 29.5 MB/s eta 0:00:01\r\u001b[K     |█████████████████▌              | 1.4 MB 29.5 MB/s eta 0:00:01\r\u001b[K     |█████████████████▊              | 1.4 MB 29.5 MB/s eta 0:00:01\r\u001b[K     |█████████████████▉              | 1.4 MB 29.5 MB/s eta 0:00:01\r\u001b[K     |██████████████████              | 1.4 MB 29.5 MB/s eta 0:00:01\r\u001b[K     |██████████████████              | 1.4 MB 29.5 MB/s eta 0:00:01\r\u001b[K     |██████████████████▏             | 1.4 MB 29.5 MB/s eta 0:00:01\r\u001b[K     |██████████████████▎             | 1.4 MB 29.5 MB/s eta 0:00:01\r\u001b[K     |██████████████████▌             | 1.5 MB 29.5 MB/s eta 0:00:01\r\u001b[K     |██████████████████▋             | 1.5 MB 29.5 MB/s eta 0:00:01\r\u001b[K     |██████████████████▊             | 1.5 MB 29.5 MB/s eta 0:00:01\r\u001b[K     |██████████████████▉             | 1.5 MB 29.5 MB/s eta 0:00:01\r\u001b[K     |███████████████████             | 1.5 MB 29.5 MB/s eta 0:00:01\r\u001b[K     |███████████████████             | 1.5 MB 29.5 MB/s eta 0:00:01\r\u001b[K     |███████████████████▎            | 1.5 MB 29.5 MB/s eta 0:00:01\r\u001b[K     |███████████████████▍            | 1.5 MB 29.5 MB/s eta 0:00:01\r\u001b[K     |███████████████████▌            | 1.5 MB 29.5 MB/s eta 0:00:01\r\u001b[K     |███████████████████▋            | 1.5 MB 29.5 MB/s eta 0:00:01\r\u001b[K     |███████████████████▊            | 1.6 MB 29.5 MB/s eta 0:00:01\r\u001b[K     |███████████████████▉            | 1.6 MB 29.5 MB/s eta 0:00:01\r\u001b[K     |████████████████████            | 1.6 MB 29.5 MB/s eta 0:00:01\r\u001b[K     |████████████████████▏           | 1.6 MB 29.5 MB/s eta 0:00:01\r\u001b[K     |████████████████████▎           | 1.6 MB 29.5 MB/s eta 0:00:01\r\u001b[K     |████████████████████▍           | 1.6 MB 29.5 MB/s eta 0:00:01\r\u001b[K     |████████████████████▌           | 1.6 MB 29.5 MB/s eta 0:00:01\r\u001b[K     |████████████████████▋           | 1.6 MB 29.5 MB/s eta 0:00:01\r\u001b[K     |████████████████████▉           | 1.6 MB 29.5 MB/s eta 0:00:01\r\u001b[K     |█████████████████████           | 1.6 MB 29.5 MB/s eta 0:00:01\r\u001b[K     |█████████████████████           | 1.7 MB 29.5 MB/s eta 0:00:01\r\u001b[K     |█████████████████████▏          | 1.7 MB 29.5 MB/s eta 0:00:01\r\u001b[K     |█████████████████████▎          | 1.7 MB 29.5 MB/s eta 0:00:01\r\u001b[K     |█████████████████████▍          | 1.7 MB 29.5 MB/s eta 0:00:01\r\u001b[K     |█████████████████████▋          | 1.7 MB 29.5 MB/s eta 0:00:01\r\u001b[K     |█████████████████████▊          | 1.7 MB 29.5 MB/s eta 0:00:01\r\u001b[K     |█████████████████████▉          | 1.7 MB 29.5 MB/s eta 0:00:01\r\u001b[K     |██████████████████████          | 1.7 MB 29.5 MB/s eta 0:00:01\r\u001b[K     |██████████████████████          | 1.7 MB 29.5 MB/s eta 0:00:01\r\u001b[K     |██████████████████████▎         | 1.8 MB 29.5 MB/s eta 0:00:01\r\u001b[K     |██████████████████████▍         | 1.8 MB 29.5 MB/s eta 0:00:01\r\u001b[K     |██████████████████████▌         | 1.8 MB 29.5 MB/s eta 0:00:01\r\u001b[K     |██████████████████████▋         | 1.8 MB 29.5 MB/s eta 0:00:01\r\u001b[K     |██████████████████████▊         | 1.8 MB 29.5 MB/s eta 0:00:01\r\u001b[K     |██████████████████████▉         | 1.8 MB 29.5 MB/s eta 0:00:01\r\u001b[K     |███████████████████████         | 1.8 MB 29.5 MB/s eta 0:00:01\r\u001b[K     |███████████████████████▏        | 1.8 MB 29.5 MB/s eta 0:00:01\r\u001b[K     |███████████████████████▎        | 1.8 MB 29.5 MB/s eta 0:00:01\r\u001b[K     |███████████████████████▍        | 1.8 MB 29.5 MB/s eta 0:00:01\r\u001b[K     |███████████████████████▌        | 1.9 MB 29.5 MB/s eta 0:00:01\r\u001b[K     |███████████████████████▋        | 1.9 MB 29.5 MB/s eta 0:00:01\r\u001b[K     |███████████████████████▉        | 1.9 MB 29.5 MB/s eta 0:00:01\r\u001b[K     |████████████████████████        | 1.9 MB 29.5 MB/s eta 0:00:01\r\u001b[K     |████████████████████████        | 1.9 MB 29.5 MB/s eta 0:00:01\r\u001b[K     |████████████████████████▏       | 1.9 MB 29.5 MB/s eta 0:00:01\r\u001b[K     |████████████████████████▎       | 1.9 MB 29.5 MB/s eta 0:00:01\r\u001b[K     |████████████████████████▍       | 1.9 MB 29.5 MB/s eta 0:00:01\r\u001b[K     |████████████████████████▋       | 1.9 MB 29.5 MB/s eta 0:00:01\r\u001b[K     |████████████████████████▊       | 1.9 MB 29.5 MB/s eta 0:00:01\r\u001b[K     |████████████████████████▉       | 2.0 MB 29.5 MB/s eta 0:00:01\r\u001b[K     |█████████████████████████       | 2.0 MB 29.5 MB/s eta 0:00:01\r\u001b[K     |█████████████████████████       | 2.0 MB 29.5 MB/s eta 0:00:01\r\u001b[K     |█████████████████████████▏      | 2.0 MB 29.5 MB/s eta 0:00:01\r\u001b[K     |█████████████████████████▍      | 2.0 MB 29.5 MB/s eta 0:00:01\r\u001b[K     |█████████████████████████▌      | 2.0 MB 29.5 MB/s eta 0:00:01\r\u001b[K     |█████████████████████████▋      | 2.0 MB 29.5 MB/s eta 0:00:01\r\u001b[K     |█████████████████████████▊      | 2.0 MB 29.5 MB/s eta 0:00:01\r\u001b[K     |█████████████████████████▉      | 2.0 MB 29.5 MB/s eta 0:00:01\r\u001b[K     |██████████████████████████      | 2.0 MB 29.5 MB/s eta 0:00:01\r\u001b[K     |██████████████████████████▏     | 2.1 MB 29.5 MB/s eta 0:00:01\r\u001b[K     |██████████████████████████▎     | 2.1 MB 29.5 MB/s eta 0:00:01\r\u001b[K     |██████████████████████████▍     | 2.1 MB 29.5 MB/s eta 0:00:01\r\u001b[K     |██████████████████████████▌     | 2.1 MB 29.5 MB/s eta 0:00:01\r\u001b[K     |██████████████████████████▋     | 2.1 MB 29.5 MB/s eta 0:00:01\r\u001b[K     |██████████████████████████▊     | 2.1 MB 29.5 MB/s eta 0:00:01\r\u001b[K     |███████████████████████████     | 2.1 MB 29.5 MB/s eta 0:00:01\r\u001b[K     |███████████████████████████     | 2.1 MB 29.5 MB/s eta 0:00:01\r\u001b[K     |███████████████████████████▏    | 2.1 MB 29.5 MB/s eta 0:00:01\r\u001b[K     |███████████████████████████▎    | 2.2 MB 29.5 MB/s eta 0:00:01\r\u001b[K     |███████████████████████████▍    | 2.2 MB 29.5 MB/s eta 0:00:01\r\u001b[K     |███████████████████████████▌    | 2.2 MB 29.5 MB/s eta 0:00:01\r\u001b[K     |███████████████████████████▊    | 2.2 MB 29.5 MB/s eta 0:00:01\r\u001b[K     |███████████████████████████▉    | 2.2 MB 29.5 MB/s eta 0:00:01\r\u001b[K     |████████████████████████████    | 2.2 MB 29.5 MB/s eta 0:00:01\r\u001b[K     |████████████████████████████    | 2.2 MB 29.5 MB/s eta 0:00:01\r\u001b[K     |████████████████████████████▏   | 2.2 MB 29.5 MB/s eta 0:00:01\r\u001b[K     |████████████████████████████▎   | 2.2 MB 29.5 MB/s eta 0:00:01\r\u001b[K     |████████████████████████████▌   | 2.2 MB 29.5 MB/s eta 0:00:01\r\u001b[K     |████████████████████████████▋   | 2.3 MB 29.5 MB/s eta 0:00:01\r\u001b[K     |████████████████████████████▊   | 2.3 MB 29.5 MB/s eta 0:00:01\r\u001b[K     |████████████████████████████▉   | 2.3 MB 29.5 MB/s eta 0:00:01\r\u001b[K     |█████████████████████████████   | 2.3 MB 29.5 MB/s eta 0:00:01\r\u001b[K     |█████████████████████████████▏  | 2.3 MB 29.5 MB/s eta 0:00:01\r\u001b[K     |█████████████████████████████▎  | 2.3 MB 29.5 MB/s eta 0:00:01\r\u001b[K     |█████████████████████████████▍  | 2.3 MB 29.5 MB/s eta 0:00:01\r\u001b[K     |█████████████████████████████▌  | 2.3 MB 29.5 MB/s eta 0:00:01\r\u001b[K     |█████████████████████████████▋  | 2.3 MB 29.5 MB/s eta 0:00:01\r\u001b[K     |█████████████████████████████▊  | 2.3 MB 29.5 MB/s eta 0:00:01\r\u001b[K     |██████████████████████████████  | 2.4 MB 29.5 MB/s eta 0:00:01\r\u001b[K     |██████████████████████████████  | 2.4 MB 29.5 MB/s eta 0:00:01\r\u001b[K     |██████████████████████████████▏ | 2.4 MB 29.5 MB/s eta 0:00:01\r\u001b[K     |██████████████████████████████▎ | 2.4 MB 29.5 MB/s eta 0:00:01\r\u001b[K     |██████████████████████████████▍ | 2.4 MB 29.5 MB/s eta 0:00:01\r\u001b[K     |██████████████████████████████▌ | 2.4 MB 29.5 MB/s eta 0:00:01\r\u001b[K     |██████████████████████████████▊ | 2.4 MB 29.5 MB/s eta 0:00:01\r\u001b[K     |██████████████████████████████▉ | 2.4 MB 29.5 MB/s eta 0:00:01\r\u001b[K     |███████████████████████████████ | 2.4 MB 29.5 MB/s eta 0:00:01\r\u001b[K     |███████████████████████████████ | 2.4 MB 29.5 MB/s eta 0:00:01\r\u001b[K     |███████████████████████████████▏| 2.5 MB 29.5 MB/s eta 0:00:01\r\u001b[K     |███████████████████████████████▎| 2.5 MB 29.5 MB/s eta 0:00:01\r\u001b[K     |███████████████████████████████▌| 2.5 MB 29.5 MB/s eta 0:00:01\r\u001b[K     |███████████████████████████████▋| 2.5 MB 29.5 MB/s eta 0:00:01\r\u001b[K     |███████████████████████████████▊| 2.5 MB 29.5 MB/s eta 0:00:01\r\u001b[K     |███████████████████████████████▉| 2.5 MB 29.5 MB/s eta 0:00:01\r\u001b[K     |████████████████████████████████| 2.5 MB 29.5 MB/s eta 0:00:01\r\u001b[K     |████████████████████████████████| 2.5 MB 29.5 MB/s \n",
            "\u001b[?25hRequirement already satisfied: six>=1.10.0 in /usr/local/lib/python3.7/dist-packages (from tensorflow_probability==0.8.0rc0) (1.15.0)\n",
            "Collecting cloudpickle==1.1.1\n",
            "  Downloading cloudpickle-1.1.1-py2.py3-none-any.whl (17 kB)\n",
            "Requirement already satisfied: decorator in /usr/local/lib/python3.7/dist-packages (from tensorflow_probability==0.8.0rc0) (4.4.2)\n",
            "Requirement already satisfied: numpy>=1.13.3 in /usr/local/lib/python3.7/dist-packages (from tensorflow_probability==0.8.0rc0) (1.21.5)\n",
            "Installing collected packages: cloudpickle, tensorflow-probability\n",
            "\u001b[31mERROR: pip's dependency resolver does not currently take into account all the packages that are installed. This behaviour is the source of the following dependency conflicts.\n",
            "gym 0.17.3 requires cloudpickle<1.7.0,>=1.2.0, but you have cloudpickle 1.1.1 which is incompatible.\u001b[0m\n",
            "Successfully installed cloudpickle-1.1.1 tensorflow-probability-0.8.0rc0\n"
          ]
        },
        {
          "output_type": "display_data",
          "data": {
            "application/vnd.colab-display-data+json": {
              "pip_warning": {
                "packages": [
                  "cloudpickle"
                ]
              }
            }
          },
          "metadata": {}
        }
      ]
    },
    {
      "cell_type": "code",
      "source": [
        "import tensorflow_probability as tfp  # We are using a different module from tensorflow this time\n",
        "import tensorflow as tf"
      ],
      "metadata": {
        "id": "-1nuaNg3DLiE"
      },
      "execution_count": 37,
      "outputs": []
    },
    {
      "cell_type": "markdown",
      "source": [
        "## Whether Model"
      ],
      "metadata": {
        "id": "9FiWjFijDgqB"
      }
    },
    {
      "cell_type": "code",
      "source": [
        "tfd = tfp.distributions  # making a shortcut for later on\n",
        "initial_distribution = tfd.Categorical(probs=[0.2, 0.8])  # Refer to point 2 above\n",
        "transition_distribution = tfd.Categorical(probs=[[0.5, 0.5],\n",
        "                                                 [0.2, 0.8]])  # refer to points 3 and 4 above\n",
        "observation_distribution = tfd.Normal(loc=[0., 15.], scale=[5., 10.])  # refer to point 5 above\n",
        "\n",
        "# the loc argument represents the mean and the scale is the standard devitation"
      ],
      "metadata": {
        "id": "fRqWatu7D5Sw"
      },
      "execution_count": 39,
      "outputs": []
    },
    {
      "cell_type": "code",
      "source": [
        "model = tfd.HiddenMarkovModel(\n",
        "    initial_distribution=initial_distribution,\n",
        "    transition_distribution=transition_distribution,\n",
        "    observation_distribution=observation_distribution,\n",
        "    num_steps=7)"
      ],
      "metadata": {
        "id": "jpxk0DJwEBtp"
      },
      "execution_count": 40,
      "outputs": []
    },
    {
      "cell_type": "code",
      "source": [
        "mean = model.mean()\n",
        "\n",
        "# due to the way TensorFlow works on a lower level we need to evaluate part of the graph\n",
        "# from within a session to see the value of this tensor\n",
        "\n",
        "# in the new version of tensorflow we need to use tf.compat.v1.Session() rather than just tf.Session()\n",
        "with tf.compat.v1.Session() as sess:  \n",
        "  print(mean.numpy())"
      ],
      "metadata": {
        "colab": {
          "base_uri": "https://localhost:8080/"
        },
        "id": "o9fDe9wcEGe7",
        "outputId": "1129d5e3-39f9-478a-c04e-e952a8837865"
      },
      "execution_count": 41,
      "outputs": [
        {
          "output_type": "stream",
          "name": "stdout",
          "text": [
            "[11.999999 11.1      10.830001 10.748999 10.724699 10.71741  10.715222]\n"
          ]
        }
      ]
    }
  ]
}